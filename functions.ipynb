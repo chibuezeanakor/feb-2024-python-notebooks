{
 "cells": [
  {
   "cell_type": "markdown",
   "id": "c277813e",
   "metadata": {},
   "source": [
    "### Functions"
   ]
  },
  {
   "cell_type": "code",
   "execution_count": 1,
   "id": "9362ecf1",
   "metadata": {},
   "outputs": [],
   "source": [
    "# Structure of a function in Python is\n",
    "# def <function_name>(<input_parameters>):\n",
    "#     <function_body>\n",
    "#     <return or a print statement>"
   ]
  },
  {
   "cell_type": "code",
   "execution_count": 2,
   "id": "58d4db32",
   "metadata": {},
   "outputs": [],
   "source": [
    "def greet(name):\n",
    "    print(\"Hi\", name)\n",
    "    print(\"Nice to see you again!\")"
   ]
  },
  {
   "cell_type": "code",
   "execution_count": 4,
   "id": "e6b2e434",
   "metadata": {},
   "outputs": [
    {
     "name": "stdout",
     "output_type": "stream",
     "text": [
      "Hi Peter\n",
      "Nice to see you again!\n"
     ]
    }
   ],
   "source": [
    "greet(\"Peter\")"
   ]
  },
  {
   "cell_type": "code",
   "execution_count": 5,
   "id": "8435e08c",
   "metadata": {},
   "outputs": [
    {
     "name": "stdout",
     "output_type": "stream",
     "text": [
      "Hi Jane\n",
      "Nice to see you again!\n"
     ]
    }
   ],
   "source": [
    "greet(\"Jane\")"
   ]
  },
  {
   "cell_type": "code",
   "execution_count": 6,
   "id": "70423f3f",
   "metadata": {},
   "outputs": [
    {
     "name": "stdout",
     "output_type": "stream",
     "text": [
      "Hi Jim\n",
      "Nice to see you again!\n"
     ]
    }
   ],
   "source": [
    "greet(\"Jim\")"
   ]
  },
  {
   "cell_type": "markdown",
   "id": "17829660",
   "metadata": {},
   "source": [
    "#### Write a function to convert Celsius to Fahrenheit"
   ]
  },
  {
   "cell_type": "code",
   "execution_count": 7,
   "id": "d58c7652",
   "metadata": {},
   "outputs": [],
   "source": [
    "def fahrenheit(t_in_celsius):\n",
    "    return (t_in_celsius * 9 / 5) + 32"
   ]
  },
  {
   "cell_type": "code",
   "execution_count": 9,
   "id": "0a263513",
   "metadata": {},
   "outputs": [
    {
     "name": "stdout",
     "output_type": "stream",
     "text": [
      "104.0\n"
     ]
    }
   ],
   "source": [
    "print(fahrenheit(40))"
   ]
  },
  {
   "cell_type": "code",
   "execution_count": 11,
   "id": "47a78451",
   "metadata": {},
   "outputs": [
    {
     "name": "stdout",
     "output_type": "stream",
     "text": [
      "22.6 --> 72.68\n",
      "25.8 --> 78.44\n",
      "27.3 --> 81.14\n",
      "29.8 --> 85.64\n"
     ]
    }
   ],
   "source": [
    "lstTemp = [22.6, 25.8, 27.3, 29.8]\n",
    "for t in lstTemp:\n",
    "    print(t, \"-->\", fahrenheit(t))"
   ]
  },
  {
   "cell_type": "markdown",
   "id": "dd4d717c",
   "metadata": {},
   "source": [
    "### Calculate Average"
   ]
  },
  {
   "cell_type": "code",
   "execution_count": 12,
   "id": "e73f524f",
   "metadata": {},
   "outputs": [],
   "source": [
    "def avg(intFirst, *intRest): # an asterisk(*) makes a variable flexible - *intRest is called variable argument\n",
    "    return (intFirst + sum(intRest)) / (len(intRest) + 1)"
   ]
  },
  {
   "cell_type": "code",
   "execution_count": 13,
   "id": "d48f3605",
   "metadata": {},
   "outputs": [
    {
     "data": {
      "text/plain": [
       "2.0"
      ]
     },
     "execution_count": 13,
     "metadata": {},
     "output_type": "execute_result"
    }
   ],
   "source": [
    "avg(1, 2, 3)"
   ]
  },
  {
   "cell_type": "code",
   "execution_count": 14,
   "id": "0aea5963",
   "metadata": {},
   "outputs": [
    {
     "data": {
      "text/plain": [
       "4.0"
      ]
     },
     "execution_count": 14,
     "metadata": {},
     "output_type": "execute_result"
    }
   ],
   "source": [
    "avg(1, 2, 3, 4, 5, 6, 7)"
   ]
  },
  {
   "cell_type": "code",
   "execution_count": 15,
   "id": "2eac402a",
   "metadata": {},
   "outputs": [
    {
     "data": {
      "text/plain": [
       "27.833333333333332"
      ]
     },
     "execution_count": 15,
     "metadata": {},
     "output_type": "execute_result"
    }
   ],
   "source": [
    "avg(5, 10, 29, 35, 38, 50)"
   ]
  },
  {
   "cell_type": "code",
   "execution_count": 19,
   "id": "c01aace5",
   "metadata": {},
   "outputs": [],
   "source": [
    "def avg2(*intRest):\n",
    "    return sum(intRest) / len(intRest)"
   ]
  },
  {
   "cell_type": "code",
   "execution_count": 21,
   "id": "41183199",
   "metadata": {},
   "outputs": [
    {
     "data": {
      "text/plain": [
       "4.0"
      ]
     },
     "execution_count": 21,
     "metadata": {},
     "output_type": "execute_result"
    }
   ],
   "source": [
    "avg2(1,2,3,4,5,6,7)"
   ]
  },
  {
   "cell_type": "code",
   "execution_count": 22,
   "id": "fc20ead7",
   "metadata": {},
   "outputs": [
    {
     "data": {
      "text/plain": [
       "11.5"
      ]
     },
     "execution_count": 22,
     "metadata": {},
     "output_type": "execute_result"
    }
   ],
   "source": [
    "avg2(6, 8, 14, 18)"
   ]
  },
  {
   "cell_type": "markdown",
   "id": "1e62d79b",
   "metadata": {},
   "source": [
    "#### Default argument value"
   ]
  },
  {
   "cell_type": "code",
   "execution_count": 23,
   "id": "e9232767",
   "metadata": {},
   "outputs": [],
   "source": [
    "def hello():\n",
    "    return \"Hello World!\""
   ]
  },
  {
   "cell_type": "code",
   "execution_count": 24,
   "id": "5479ac82",
   "metadata": {},
   "outputs": [
    {
     "data": {
      "text/plain": [
       "'Hello World!'"
      ]
     },
     "execution_count": 24,
     "metadata": {},
     "output_type": "execute_result"
    }
   ],
   "source": [
    "hello()"
   ]
  },
  {
   "cell_type": "code",
   "execution_count": 25,
   "id": "f4b2da36",
   "metadata": {},
   "outputs": [],
   "source": [
    "def hello(name):\n",
    "    return \"Hello \" + name + \"!\""
   ]
  },
  {
   "cell_type": "code",
   "execution_count": 26,
   "id": "88806773",
   "metadata": {},
   "outputs": [
    {
     "data": {
      "text/plain": [
       "'Hello Jack!'"
      ]
     },
     "execution_count": 26,
     "metadata": {},
     "output_type": "execute_result"
    }
   ],
   "source": [
    "hello(\"Jack\")"
   ]
  },
  {
   "cell_type": "code",
   "execution_count": 27,
   "id": "0bdc2ac2",
   "metadata": {},
   "outputs": [],
   "source": [
    "def hello(name=\"Everybody\"): # Default value for name is provided\n",
    "    return \"Hello \" + name + \"!\""
   ]
  },
  {
   "cell_type": "code",
   "execution_count": 28,
   "id": "dedb2adf",
   "metadata": {},
   "outputs": [
    {
     "data": {
      "text/plain": [
       "'Hello Everybody!'"
      ]
     },
     "execution_count": 28,
     "metadata": {},
     "output_type": "execute_result"
    }
   ],
   "source": [
    "hello()"
   ]
  },
  {
   "cell_type": "code",
   "execution_count": 29,
   "id": "539cfcac",
   "metadata": {},
   "outputs": [
    {
     "data": {
      "text/plain": [
       "'Hello Jane!'"
      ]
     },
     "execution_count": 29,
     "metadata": {},
     "output_type": "execute_result"
    }
   ],
   "source": [
    "hello(\"Jane\")"
   ]
  },
  {
   "cell_type": "code",
   "execution_count": 30,
   "id": "e0c84df8",
   "metadata": {},
   "outputs": [
    {
     "name": "stdout",
     "output_type": "stream",
     "text": [
      "Help on function hello in module __main__:\n",
      "\n",
      "hello(name='Everybody')\n",
      "\n"
     ]
    }
   ],
   "source": [
    "help(hello)"
   ]
  },
  {
   "cell_type": "code",
   "execution_count": 31,
   "id": "0e34907c",
   "metadata": {},
   "outputs": [],
   "source": [
    "def add(x, y):\n",
    "    return x + y"
   ]
  },
  {
   "cell_type": "code",
   "execution_count": 32,
   "id": "fdadd173",
   "metadata": {},
   "outputs": [
    {
     "name": "stdout",
     "output_type": "stream",
     "text": [
      "Help on function add in module __main__:\n",
      "\n",
      "add(x, y)\n",
      "\n"
     ]
    }
   ],
   "source": [
    "help(add)"
   ]
  },
  {
   "cell_type": "code",
   "execution_count": 33,
   "id": "fdf82a75",
   "metadata": {},
   "outputs": [],
   "source": [
    "def add(x:int, y:int) ->int:\n",
    "    return x + y"
   ]
  },
  {
   "cell_type": "code",
   "execution_count": 34,
   "id": "b100134c",
   "metadata": {},
   "outputs": [
    {
     "data": {
      "text/plain": [
       "5"
      ]
     },
     "execution_count": 34,
     "metadata": {},
     "output_type": "execute_result"
    }
   ],
   "source": [
    "add(2, 3)"
   ]
  },
  {
   "cell_type": "code",
   "execution_count": 35,
   "id": "88a3951c",
   "metadata": {},
   "outputs": [
    {
     "name": "stdout",
     "output_type": "stream",
     "text": [
      "Help on function add in module __main__:\n",
      "\n",
      "add(x: int, y: int) -> int\n",
      "\n"
     ]
    }
   ],
   "source": [
    "help(add)"
   ]
  },
  {
   "cell_type": "code",
   "execution_count": 36,
   "id": "f62b916c",
   "metadata": {},
   "outputs": [],
   "source": [
    "def myFunc():\n",
    "    return 1, 2, 3"
   ]
  },
  {
   "cell_type": "code",
   "execution_count": 37,
   "id": "d3736115",
   "metadata": {},
   "outputs": [],
   "source": [
    "a, b, c = myFunc()"
   ]
  },
  {
   "cell_type": "code",
   "execution_count": 38,
   "id": "0f01ce64",
   "metadata": {},
   "outputs": [
    {
     "data": {
      "text/plain": [
       "1"
      ]
     },
     "execution_count": 38,
     "metadata": {},
     "output_type": "execute_result"
    }
   ],
   "source": [
    "a"
   ]
  },
  {
   "cell_type": "code",
   "execution_count": 39,
   "id": "806386b9",
   "metadata": {},
   "outputs": [
    {
     "data": {
      "text/plain": [
       "2"
      ]
     },
     "execution_count": 39,
     "metadata": {},
     "output_type": "execute_result"
    }
   ],
   "source": [
    "b"
   ]
  },
  {
   "cell_type": "code",
   "execution_count": 40,
   "id": "284d1df4",
   "metadata": {},
   "outputs": [
    {
     "data": {
      "text/plain": [
       "3"
      ]
     },
     "execution_count": 40,
     "metadata": {},
     "output_type": "execute_result"
    }
   ],
   "source": [
    "c"
   ]
  },
  {
   "cell_type": "markdown",
   "id": "b1cc402a",
   "metadata": {},
   "source": [
    "### Create add, subtract, division, multiplication function"
   ]
  },
  {
   "cell_type": "code",
   "execution_count": 46,
   "id": "22a1260c",
   "metadata": {},
   "outputs": [],
   "source": [
    "def add(x:int, y:int) ->int:\n",
    "    return x + y\n",
    "\n",
    "def subtract(x:int, y:int) ->int:\n",
    "    return x - y\n",
    "\n",
    "def multiply(x:int, y:int) ->int:\n",
    "    return x * y\n",
    "\n",
    "def divide(x:int, y:int) ->int:\n",
    "    return x / y"
   ]
  },
  {
   "cell_type": "code",
   "execution_count": 47,
   "id": "7c90232a",
   "metadata": {},
   "outputs": [
    {
     "data": {
      "text/plain": [
       "3"
      ]
     },
     "execution_count": 47,
     "metadata": {},
     "output_type": "execute_result"
    }
   ],
   "source": [
    "add(1,2)"
   ]
  },
  {
   "cell_type": "code",
   "execution_count": 43,
   "id": "56508fbd",
   "metadata": {},
   "outputs": [
    {
     "data": {
      "text/plain": [
       "3"
      ]
     },
     "execution_count": 43,
     "metadata": {},
     "output_type": "execute_result"
    }
   ],
   "source": [
    "subtract(5, 2)"
   ]
  },
  {
   "cell_type": "code",
   "execution_count": 44,
   "id": "8dddcf8a",
   "metadata": {},
   "outputs": [
    {
     "data": {
      "text/plain": [
       "12"
      ]
     },
     "execution_count": 44,
     "metadata": {},
     "output_type": "execute_result"
    }
   ],
   "source": [
    "multiply(4, 3)"
   ]
  },
  {
   "cell_type": "code",
   "execution_count": 45,
   "id": "de56d4d4",
   "metadata": {},
   "outputs": [
    {
     "data": {
      "text/plain": [
       "6.0"
      ]
     },
     "execution_count": 45,
     "metadata": {},
     "output_type": "execute_result"
    }
   ],
   "source": [
    "divide(12, 2)"
   ]
  },
  {
   "cell_type": "markdown",
   "id": "1c32d31c",
   "metadata": {},
   "source": [
    "#### Create 2 variables, x and y\n",
    "#### Call input function to get values from the console\n",
    "#### Create another variable to check if the user wants to add, subtract, multiply, or divide the variables\n",
    "#### Call the appropriate function and return the value"
   ]
  },
  {
   "cell_type": "code",
   "execution_count": null,
   "id": "c6e1a10f",
   "metadata": {},
   "outputs": [],
   "source": [
    "def num_operation(num1, num2, op):\n",
    "    if op == 1:\n",
    "        return add(num1, num2)\n",
    "    elif op == 2:\n",
    "        return subtract(num1, num2)\n",
    "    elif op == 3:\n",
    "        return multiply(num1, num2)\n",
    "    elif op == 4:\n",
    "        return divide(num1, num2)\n",
    "\n",
    "x = int(input(\"Enter first value: \"))\n",
    "y = int(input(\"Enter second value: \"))\n",
    "operation_dict = {\n",
    "    1: \"add\",\n",
    "    2: \"subtract\",\n",
    "    3: \"multiply\",\n",
    "    4: \"divide\"\n",
    "}\n",
    "operation = int(input(\"1: addition\\n2: subtraction\\n3: multiplication\\n4: division\\nWhat operation would you like to perform? \"))\n",
    "    \n",
    "print(num_operation(x, y, operation))"
   ]
  },
  {
   "cell_type": "markdown",
   "id": "4ca2ed76",
   "metadata": {},
   "source": [
    "#### Function within a function"
   ]
  },
  {
   "cell_type": "code",
   "execution_count": 49,
   "id": "8c79c091",
   "metadata": {},
   "outputs": [],
   "source": [
    "def outer(num1):\n",
    "    def inner_increment(num1):\n",
    "        return num1 + 1\n",
    "    num2 = inner_increment(num1)\n",
    "    return (num1, num2)"
   ]
  },
  {
   "cell_type": "code",
   "execution_count": 50,
   "id": "087f87ae",
   "metadata": {},
   "outputs": [
    {
     "data": {
      "text/plain": [
       "(10, 11)"
      ]
     },
     "execution_count": 50,
     "metadata": {},
     "output_type": "execute_result"
    }
   ],
   "source": [
    "outer(10)"
   ]
  },
  {
   "cell_type": "code",
   "execution_count": null,
   "id": "a0b6aa6f",
   "metadata": {},
   "outputs": [],
   "source": []
  }
 ],
 "metadata": {
  "kernelspec": {
   "display_name": "Python 3 (ipykernel)",
   "language": "python",
   "name": "python3"
  },
  "language_info": {
   "codemirror_mode": {
    "name": "ipython",
    "version": 3
   },
   "file_extension": ".py",
   "mimetype": "text/x-python",
   "name": "python",
   "nbconvert_exporter": "python",
   "pygments_lexer": "ipython3",
   "version": "3.11.5"
  }
 },
 "nbformat": 4,
 "nbformat_minor": 5
}
