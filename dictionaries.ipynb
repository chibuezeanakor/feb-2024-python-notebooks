{
 "cells": [
  {
   "cell_type": "markdown",
   "id": "0c40d356",
   "metadata": {},
   "source": [
    "Dictionaries are denoted by curly braces \"{}\" and store key-value pairs"
   ]
  },
  {
   "cell_type": "code",
   "execution_count": 1,
   "id": "6f06252e",
   "metadata": {},
   "outputs": [],
   "source": [
    "person = {\n",
    "    \"name\": \"Jack Sparrow\",\n",
    "    \"age\": 48,\n",
    "    \"city\": \"Turks and Caicos\",\n",
    "    \"email\": \"jack@pirates.com\"\n",
    "}"
   ]
  },
  {
   "cell_type": "code",
   "execution_count": 3,
   "id": "20c5a584",
   "metadata": {},
   "outputs": [
    {
     "name": "stdout",
     "output_type": "stream",
     "text": [
      "Name is:  Jack Sparrow Age is:  48\n"
     ]
    }
   ],
   "source": [
    "# Retrieving the values\n",
    "name = person[\"name\"]\n",
    "age = person[\"age\"]\n",
    "print(\"Name is: \", name, \"Age is: \", age)"
   ]
  },
  {
   "cell_type": "code",
   "execution_count": 4,
   "id": "707ec3cf",
   "metadata": {},
   "outputs": [
    {
     "data": {
      "text/plain": [
       "{'name': 'Jack Sparrow',\n",
       " 'age': 48,\n",
       " 'city': 'Turks and Caicos',\n",
       " 'email': 'jack@pirates.com'}"
      ]
     },
     "execution_count": 4,
     "metadata": {},
     "output_type": "execute_result"
    }
   ],
   "source": [
    "person"
   ]
  },
  {
   "cell_type": "code",
   "execution_count": 5,
   "id": "bb60d6b2",
   "metadata": {},
   "outputs": [],
   "source": [
    "person[\"city\"] = \"Freiburg\""
   ]
  },
  {
   "cell_type": "code",
   "execution_count": 6,
   "id": "17bd1f9c",
   "metadata": {},
   "outputs": [
    {
     "data": {
      "text/plain": [
       "{'name': 'Jack Sparrow',\n",
       " 'age': 48,\n",
       " 'city': 'Freiburg',\n",
       " 'email': 'jack@pirates.com'}"
      ]
     },
     "execution_count": 6,
     "metadata": {},
     "output_type": "execute_result"
    }
   ],
   "source": [
    "person"
   ]
  },
  {
   "cell_type": "code",
   "execution_count": 7,
   "id": "da408072",
   "metadata": {},
   "outputs": [],
   "source": [
    "person[\"favorite_hobbies\"] = [\"reading\", \"music\", \"stealing\"]"
   ]
  },
  {
   "cell_type": "code",
   "execution_count": 8,
   "id": "86dc5e22",
   "metadata": {},
   "outputs": [
    {
     "data": {
      "text/plain": [
       "{'name': 'Jack Sparrow',\n",
       " 'age': 48,\n",
       " 'city': 'Freiburg',\n",
       " 'email': 'jack@pirates.com',\n",
       " 'favorite_hobbies': ['reading', 'music', 'stealing']}"
      ]
     },
     "execution_count": 8,
     "metadata": {},
     "output_type": "execute_result"
    }
   ],
   "source": [
    "person"
   ]
  },
  {
   "cell_type": "code",
   "execution_count": 9,
   "id": "e83be1df",
   "metadata": {},
   "outputs": [],
   "source": [
    "# Deleting city from dictionary\n",
    "del person[\"city\"]"
   ]
  },
  {
   "cell_type": "code",
   "execution_count": 10,
   "id": "040127a4",
   "metadata": {},
   "outputs": [
    {
     "data": {
      "text/plain": [
       "{'name': 'Jack Sparrow',\n",
       " 'age': 48,\n",
       " 'email': 'jack@pirates.com',\n",
       " 'favorite_hobbies': ['reading', 'music', 'stealing']}"
      ]
     },
     "execution_count": 10,
     "metadata": {},
     "output_type": "execute_result"
    }
   ],
   "source": [
    "person"
   ]
  },
  {
   "cell_type": "code",
   "execution_count": 18,
   "id": "07b741dd",
   "metadata": {},
   "outputs": [],
   "source": [
    "cityPopulation = {\n",
    "    \"Berlin\": (3760000, \"Germany\"),\n",
    "    \"Paris\": (2161000, \"France\"),\n",
    "    \"Vienna\": (1921641, \"Austria\")\n",
    "}"
   ]
  },
  {
   "cell_type": "code",
   "execution_count": 12,
   "id": "0cb9187c",
   "metadata": {},
   "outputs": [
    {
     "data": {
      "text/plain": [
       "{'Berling': (3760000, 'Germany'),\n",
       " 'Paris': (2161000, 'France'),\n",
       " 'Vienna': (1921641, 'Austria')}"
      ]
     },
     "execution_count": 12,
     "metadata": {},
     "output_type": "execute_result"
    }
   ],
   "source": [
    "cityPopulation"
   ]
  },
  {
   "cell_type": "code",
   "execution_count": 19,
   "id": "ec14a311",
   "metadata": {},
   "outputs": [
    {
     "data": {
      "text/plain": [
       "dict_items([('Berlin', (3760000, 'Germany')), ('Paris', (2161000, 'France')), ('Vienna', (1921641, 'Austria'))])"
      ]
     },
     "execution_count": 19,
     "metadata": {},
     "output_type": "execute_result"
    }
   ],
   "source": [
    "cityPopulation.items()"
   ]
  },
  {
   "cell_type": "code",
   "execution_count": 20,
   "id": "0bd8c9be",
   "metadata": {},
   "outputs": [],
   "source": [
    "lstCityPopulation = list(cityPopulation.items())"
   ]
  },
  {
   "cell_type": "code",
   "execution_count": 21,
   "id": "abb4bfa4",
   "metadata": {},
   "outputs": [
    {
     "data": {
      "text/plain": [
       "('Berlin', (3760000, 'Germany'))"
      ]
     },
     "execution_count": 21,
     "metadata": {},
     "output_type": "execute_result"
    }
   ],
   "source": [
    "lstCityPopulation[0]"
   ]
  },
  {
   "cell_type": "code",
   "execution_count": 22,
   "id": "2433b310",
   "metadata": {},
   "outputs": [
    {
     "data": {
      "text/plain": [
       "3760000"
      ]
     },
     "execution_count": 22,
     "metadata": {},
     "output_type": "execute_result"
    }
   ],
   "source": [
    "lstCityPopulation[0][1][0]"
   ]
  },
  {
   "cell_type": "code",
   "execution_count": 23,
   "id": "5eef7b9f",
   "metadata": {},
   "outputs": [
    {
     "data": {
      "text/plain": [
       "list"
      ]
     },
     "execution_count": 23,
     "metadata": {},
     "output_type": "execute_result"
    }
   ],
   "source": [
    "type(lstCityPopulation)"
   ]
  },
  {
   "cell_type": "markdown",
   "id": "94c24432",
   "metadata": {},
   "source": [
    "## items()\n",
    "* Lazy evaluation: This saves memory and processing time when dealing with large dictionary items\n",
    "* Memory efficiency: Generates items dynamically without storing the entire list in memory at once\n",
    "* Time complexity: Allows efficient iteration over only the required items without iterating over the entire dictionary"
   ]
  },
  {
   "cell_type": "code",
   "execution_count": 24,
   "id": "3c6de943",
   "metadata": {},
   "outputs": [
    {
     "data": {
      "text/plain": [
       "dict_keys(['Berlin', 'Paris', 'Vienna'])"
      ]
     },
     "execution_count": 24,
     "metadata": {},
     "output_type": "execute_result"
    }
   ],
   "source": [
    "cityPopulation.keys()"
   ]
  },
  {
   "cell_type": "code",
   "execution_count": 25,
   "id": "9f7342ec",
   "metadata": {},
   "outputs": [
    {
     "data": {
      "text/plain": [
       "dict_values([(3760000, 'Germany'), (2161000, 'France'), (1921641, 'Austria')])"
      ]
     },
     "execution_count": 25,
     "metadata": {},
     "output_type": "execute_result"
    }
   ],
   "source": [
    "cityPopulation.values()"
   ]
  },
  {
   "cell_type": "code",
   "execution_count": 26,
   "id": "e050eb11",
   "metadata": {},
   "outputs": [],
   "source": [
    "cities = [\"Berlin\", \"Hamburg\", \"Munich\", \"Cologne\"]\n",
    "areas = [891.68, 755.3, 310.7, 405.8, 248.31]"
   ]
  },
  {
   "cell_type": "code",
   "execution_count": 27,
   "id": "fd18cd5f",
   "metadata": {},
   "outputs": [],
   "source": [
    "city_area_dict = dict(zip(cities, areas))"
   ]
  },
  {
   "cell_type": "code",
   "execution_count": 28,
   "id": "b55a874d",
   "metadata": {},
   "outputs": [
    {
     "data": {
      "text/plain": [
       "{'Berlin': 891.68, 'Hamburg': 755.3, 'Munich': 310.7, 'Cologne': 405.8}"
      ]
     },
     "execution_count": 28,
     "metadata": {},
     "output_type": "execute_result"
    }
   ],
   "source": [
    "city_area_dict"
   ]
  },
  {
   "cell_type": "code",
   "execution_count": null,
   "id": "ae8cb0f7",
   "metadata": {},
   "outputs": [],
   "source": []
  }
 ],
 "metadata": {
  "kernelspec": {
   "display_name": "Python 3 (ipykernel)",
   "language": "python",
   "name": "python3"
  },
  "language_info": {
   "codemirror_mode": {
    "name": "ipython",
    "version": 3
   },
   "file_extension": ".py",
   "mimetype": "text/x-python",
   "name": "python",
   "nbconvert_exporter": "python",
   "pygments_lexer": "ipython3",
   "version": "3.11.5"
  }
 },
 "nbformat": 4,
 "nbformat_minor": 5
}
