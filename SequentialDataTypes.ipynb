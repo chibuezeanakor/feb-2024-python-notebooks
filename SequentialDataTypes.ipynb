{
 "cells": [
  {
   "cell_type": "markdown",
   "id": "462a454b",
   "metadata": {},
   "source": [
    "### Sequential Data Types\n",
    "Sequences are on of the principal built-in data types besides numerics, mappings, files, instances, and exceptions.\n",
    "Python provides for six sequence (or sequential) data types:\n",
    "* strings\n",
    "* byte sequences\n",
    "* byte arrays\n",
    "* lists\n",
    "* tuples\n",
    "* range objects"
   ]
  },
  {
   "cell_type": "code",
   "execution_count": 1,
   "id": "794e7c74",
   "metadata": {},
   "outputs": [
    {
     "data": {
      "text/plain": [
       "'H'"
      ]
     },
     "execution_count": 1,
     "metadata": {},
     "output_type": "execute_result"
    }
   ],
   "source": [
    "strText = \"Hello World\"\n",
    "strText[0]"
   ]
  },
  {
   "cell_type": "code",
   "execution_count": 3,
   "id": "70e99d0b",
   "metadata": {},
   "outputs": [
    {
     "data": {
      "text/plain": [
       "'Vienna'"
      ]
     },
     "execution_count": 3,
     "metadata": {},
     "output_type": "execute_result"
    }
   ],
   "source": [
    "lstCities = [\"Vienna\", \"London\", \"Paris\", \"Berlin\", \"Zurich\", \"Hamburg\"]\n",
    "lstCities[0]"
   ]
  },
  {
   "cell_type": "code",
   "execution_count": 4,
   "id": "40ad5d93",
   "metadata": {
    "scrolled": true
   },
   "outputs": [
    {
     "data": {
      "text/plain": [
       "'V'"
      ]
     },
     "execution_count": 4,
     "metadata": {},
     "output_type": "execute_result"
    }
   ],
   "source": [
    "lstCities[0][0]"
   ]
  },
  {
   "cell_type": "code",
   "execution_count": 5,
   "id": "26ddf98e",
   "metadata": {},
   "outputs": [
    {
     "data": {
      "text/plain": [
       "6"
      ]
     },
     "execution_count": 5,
     "metadata": {},
     "output_type": "execute_result"
    }
   ],
   "source": [
    "len(lstCities)"
   ]
  },
  {
   "cell_type": "code",
   "execution_count": 6,
   "id": "98537216",
   "metadata": {},
   "outputs": [
    {
     "data": {
      "text/plain": [
       "10"
      ]
     },
     "execution_count": 6,
     "metadata": {},
     "output_type": "execute_result"
    }
   ],
   "source": [
    "lstFibonacci = [1, 1, 2, 3, 5, 8, 13, 21, 34, 55]\n",
    "len(lstFibonacci)"
   ]
  },
  {
   "cell_type": "code",
   "execution_count": 8,
   "id": "25f226bd",
   "metadata": {},
   "outputs": [
    {
     "data": {
      "text/plain": [
       "3"
      ]
     },
     "execution_count": 8,
     "metadata": {},
     "output_type": "execute_result"
    }
   ],
   "source": [
    "lstFibonacci[3]"
   ]
  },
  {
   "cell_type": "markdown",
   "id": "fe6797be",
   "metadata": {},
   "source": [
    "### Create a languages list and add the following values -> Python, C, C++, Java, and Perl\n",
    "#### Print a message that says, First and Second language are quite different"
   ]
  },
  {
   "cell_type": "code",
   "execution_count": 9,
   "id": "3e26f9a3",
   "metadata": {},
   "outputs": [
    {
     "name": "stdout",
     "output_type": "stream",
     "text": [
      "Python and C are quite different\n"
     ]
    }
   ],
   "source": [
    "lstLanguages = [\"Python\", \"C\", \"C++\", \"Java\", \"Perl\"]\n",
    "print(lstLanguages[0], \"and\", lstLanguages[1], \"are quite different\")"
   ]
  },
  {
   "cell_type": "code",
   "execution_count": 11,
   "id": "cc72a814",
   "metadata": {},
   "outputs": [
    {
     "name": "stdout",
     "output_type": "stream",
     "text": [
      "George is 72 years old\n"
     ]
    }
   ],
   "source": [
    "lstGroup = [\"Bob\", 23, \"George\", 72, \"Myriam\", 29]\n",
    "print(lstGroup[2], \"is\", lstGroup[3], \"years old\")"
   ]
  },
  {
   "cell_type": "markdown",
   "id": "116c54c3",
   "metadata": {},
   "source": [
    "## Main Properties of a Python List\n",
    "* They are ordered\n",
    "* They contain arbitrary objects\n",
    "* Elements of a list can be accessed by an index\n",
    "* Variable size\n",
    "* They are mutable, i.e. The elements of a list can be changed"
   ]
  },
  {
   "cell_type": "code",
   "execution_count": 1,
   "id": "a869a7dc",
   "metadata": {},
   "outputs": [
    {
     "data": {
      "text/plain": [
       "['High Up', ['further down', ['and down', ['deep down', 'the answer', 43]]]]"
      ]
     },
     "execution_count": 1,
     "metadata": {},
     "output_type": "execute_result"
    }
   ],
   "source": [
    "# Examples\n",
    "[] # An empty list\n",
    "[43, \"What's the question?\", 3.145] # A list of mixed data types\n",
    "[1,1,2,3,5,8] # A list of integers\n",
    "[\"John\", \"Jane\", \"Jack\", \"Jim\"] # A list of strings\n",
    "[[\"London\", \"England\", 75670], [\"Paris\", \"France\", 219300]] # A nested list\n",
    "[\"High Up\", [\"further down\", [\"and down\", [\"deep down\", \"the answer\", 43]]]]"
   ]
  },
  {
   "cell_type": "code",
   "execution_count": 2,
   "id": "2272a550",
   "metadata": {},
   "outputs": [
    {
     "data": {
      "text/plain": [
       "['John Smith']"
      ]
     },
     "execution_count": 2,
     "metadata": {},
     "output_type": "execute_result"
    }
   ],
   "source": [
    "lstPerson = [[\"John\", \"Smith\"], [\"17 New Street\", \"12345\", \"London\"], \"0786-7890\"]\n",
    "name = lstPerson[0]\n",
    "name"
   ]
  },
  {
   "cell_type": "code",
   "execution_count": 5,
   "id": "488f1505",
   "metadata": {},
   "outputs": [
    {
     "data": {
      "text/plain": [
       "'17 New Street'"
      ]
     },
     "execution_count": 5,
     "metadata": {},
     "output_type": "execute_result"
    }
   ],
   "source": [
    "streetName = lstPerson[1][0]\n",
    "streetName"
   ]
  },
  {
   "cell_type": "code",
   "execution_count": 7,
   "id": "e06c7ce4",
   "metadata": {},
   "outputs": [
    {
     "data": {
      "text/plain": [
       "'12345'"
      ]
     },
     "execution_count": 7,
     "metadata": {},
     "output_type": "execute_result"
    }
   ],
   "source": [
    "zipCode = lstPerson[1][1]\n",
    "zipCode"
   ]
  },
  {
   "cell_type": "code",
   "execution_count": 8,
   "id": "a766fff3",
   "metadata": {},
   "outputs": [],
   "source": [
    "complex_list = [[\"a\", [\"b\", [\"c\", \"x\"]]], 74]"
   ]
  },
  {
   "cell_type": "code",
   "execution_count": 20,
   "id": "831ca9e5",
   "metadata": {},
   "outputs": [
    {
     "name": "stdout",
     "output_type": "stream",
     "text": [
      "['b', ['c', 'x']]\n"
     ]
    }
   ],
   "source": [
    "# Output b, c, and x\n",
    "print(complex_list[0][1])"
   ]
  },
  {
   "cell_type": "code",
   "execution_count": 19,
   "id": "f31d9cdf",
   "metadata": {},
   "outputs": [
    {
     "name": "stdout",
     "output_type": "stream",
     "text": [
      "c\n"
     ]
    }
   ],
   "source": [
    "# Output c\n",
    "print(complex_list[0][1][1][0])"
   ]
  },
  {
   "cell_type": "markdown",
   "id": "318eeaf7",
   "metadata": {},
   "source": [
    "## Changing List"
   ]
  },
  {
   "cell_type": "code",
   "execution_count": 21,
   "id": "99abc1a7",
   "metadata": {},
   "outputs": [],
   "source": [
    "prgLanguages = [\"Python\", \"C\", \"C++\", \"Java\", \"Perl\"]\n",
    "prgLanguages[4] = \"Lisp\""
   ]
  },
  {
   "cell_type": "code",
   "execution_count": 22,
   "id": "545a292a",
   "metadata": {},
   "outputs": [
    {
     "data": {
      "text/plain": [
       "['Python', 'C', 'C++', 'Java', 'Lisp']"
      ]
     },
     "execution_count": 22,
     "metadata": {},
     "output_type": "execute_result"
    }
   ],
   "source": [
    "prgLanguages"
   ]
  },
  {
   "cell_type": "code",
   "execution_count": 24,
   "id": "65252124",
   "metadata": {},
   "outputs": [],
   "source": [
    "prgLanguages.append(\"Haskell\")"
   ]
  },
  {
   "cell_type": "code",
   "execution_count": 25,
   "id": "c055a2ad",
   "metadata": {},
   "outputs": [
    {
     "data": {
      "text/plain": [
       "['Python', 'C', 'C++', 'Java', 'Lisp', 'Haskell']"
      ]
     },
     "execution_count": 25,
     "metadata": {},
     "output_type": "execute_result"
    }
   ],
   "source": [
    "prgLanguages"
   ]
  },
  {
   "cell_type": "code",
   "execution_count": 26,
   "id": "ea88ec87",
   "metadata": {},
   "outputs": [
    {
     "data": {
      "text/plain": [
       "['Python', 'Perl', 'C', 'C++', 'Java', 'Lisp', 'Haskell']"
      ]
     },
     "execution_count": 26,
     "metadata": {},
     "output_type": "execute_result"
    }
   ],
   "source": [
    "prgLanguages.insert(1, \"Perl\")\n",
    "prgLanguages"
   ]
  },
  {
   "cell_type": "markdown",
   "id": "b7ee5eaa",
   "metadata": {},
   "source": [
    "### Create a shopping list for your groceries and add milk, yogurt, eggs, bread, bananas, and butter"
   ]
  },
  {
   "cell_type": "code",
   "execution_count": 31,
   "id": "77ed9c4c",
   "metadata": {},
   "outputs": [],
   "source": [
    "shoppingList = [\"milk\", \"yogurt\", \"eggs\", \"bread\", \"bananas\", \"butter\"]\n",
    "cart = [] # This is an empty list\n",
    "# pop() - removes the last element of the list and returns it\n",
    "article = shoppingList.pop()\n",
    "cart.append(article)"
   ]
  },
  {
   "cell_type": "code",
   "execution_count": 32,
   "id": "fca217fc",
   "metadata": {},
   "outputs": [
    {
     "data": {
      "text/plain": [
       "['butter']"
      ]
     },
     "execution_count": 32,
     "metadata": {},
     "output_type": "execute_result"
    }
   ],
   "source": [
    "cart"
   ]
  },
  {
   "cell_type": "code",
   "execution_count": 33,
   "id": "2e5bbf7f",
   "metadata": {},
   "outputs": [],
   "source": [
    "article = shoppingList.pop()\n",
    "cart.append(article)"
   ]
  },
  {
   "cell_type": "code",
   "execution_count": 34,
   "id": "aaad9c05",
   "metadata": {},
   "outputs": [
    {
     "data": {
      "text/plain": [
       "['butter', 'bananas']"
      ]
     },
     "execution_count": 34,
     "metadata": {},
     "output_type": "execute_result"
    }
   ],
   "source": [
    "cart"
   ]
  },
  {
   "cell_type": "code",
   "execution_count": 35,
   "id": "c84e51bc",
   "metadata": {},
   "outputs": [
    {
     "data": {
      "text/plain": [
       "['milk', 'yogurt', 'eggs', 'bread']"
      ]
     },
     "execution_count": 35,
     "metadata": {},
     "output_type": "execute_result"
    }
   ],
   "source": [
    "shoppingList"
   ]
  },
  {
   "cell_type": "markdown",
   "id": "1bb9d004",
   "metadata": {},
   "source": []
  },
  {
   "cell_type": "code",
   "execution_count": null,
   "id": "6fd0ce76",
   "metadata": {},
   "outputs": [],
   "source": []
  }
 ],
 "metadata": {
  "kernelspec": {
   "display_name": "Python 3 (ipykernel)",
   "language": "python",
   "name": "python3"
  },
  "language_info": {
   "codemirror_mode": {
    "name": "ipython",
    "version": 3
   },
   "file_extension": ".py",
   "mimetype": "text/x-python",
   "name": "python",
   "nbconvert_exporter": "python",
   "pygments_lexer": "ipython3",
   "version": "3.11.5"
  }
 },
 "nbformat": 4,
 "nbformat_minor": 5
}
