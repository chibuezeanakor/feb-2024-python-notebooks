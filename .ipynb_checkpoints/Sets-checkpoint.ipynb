{
 "cells": [
  {
   "cell_type": "markdown",
   "id": "6f44643a",
   "metadata": {},
   "source": [
    "### Set\n",
    "This is a collection type. A set contains an unordered collection of unique and immutable objects."
   ]
  },
  {
   "cell_type": "code",
   "execution_count": 1,
   "id": "9366c673",
   "metadata": {},
   "outputs": [],
   "source": [
    "aSet = set(\"Hello World\")"
   ]
  },
  {
   "cell_type": "code",
   "execution_count": 2,
   "id": "db0a1637",
   "metadata": {},
   "outputs": [
    {
     "data": {
      "text/plain": [
       "{' ', 'H', 'W', 'd', 'e', 'l', 'o', 'r'}"
      ]
     },
     "execution_count": 2,
     "metadata": {},
     "output_type": "execute_result"
    }
   ],
   "source": [
    "aSet"
   ]
  },
  {
   "cell_type": "code",
   "execution_count": 3,
   "id": "42826e1c",
   "metadata": {},
   "outputs": [
    {
     "data": {
      "text/plain": [
       "{' ', 'A', 'P', 'T', 'a', 'h', 'i', 'l', 'n', 'o', 'r', 't', 'u', 'y'}"
      ]
     },
     "execution_count": 3,
     "metadata": {},
     "output_type": "execute_result"
    }
   ],
   "source": [
    "aSet2 = set(\"A Python Tutorial\")\n",
    "aSet2"
   ]
  },
  {
   "cell_type": "code",
   "execution_count": 4,
   "id": "fd0101fb",
   "metadata": {},
   "outputs": [
    {
     "data": {
      "text/plain": [
       "{'Java', 'Perl', 'Python'}"
      ]
     },
     "execution_count": 4,
     "metadata": {},
     "output_type": "execute_result"
    }
   ],
   "source": [
    "aSet3 = set([\"Perl\", \"Python\", \"Java\"])\n",
    "aSet3"
   ]
  },
  {
   "cell_type": "code",
   "execution_count": 5,
   "id": "31f1b6ab",
   "metadata": {},
   "outputs": [],
   "source": [
    "citiesSet = set([\"Paris\", \"New York\", \"Ashburn\", \"Dallas\", \"Paris\", \"Birmingham\"])"
   ]
  },
  {
   "cell_type": "code",
   "execution_count": 6,
   "id": "b62673c8",
   "metadata": {},
   "outputs": [
    {
     "data": {
      "text/plain": [
       "{'Ashburn', 'Birmingham', 'Dallas', 'New York', 'Paris'}"
      ]
     },
     "execution_count": 6,
     "metadata": {},
     "output_type": "execute_result"
    }
   ],
   "source": [
    "citiesSet"
   ]
  },
  {
   "cell_type": "code",
   "execution_count": 9,
   "id": "15940df2",
   "metadata": {},
   "outputs": [
    {
     "ename": "TypeError",
     "evalue": "unhashable type: 'list'",
     "output_type": "error",
     "traceback": [
      "\u001b[0;31m---------------------------------------------------------------------------\u001b[0m",
      "\u001b[0;31mTypeError\u001b[0m                                 Traceback (most recent call last)",
      "Cell \u001b[0;32mIn[9], line 1\u001b[0m\n\u001b[0;32m----> 1\u001b[0m citiesSet2 \u001b[38;5;241m=\u001b[39m \u001b[38;5;28mset\u001b[39m(([\u001b[38;5;124m\"\u001b[39m\u001b[38;5;124mPython\u001b[39m\u001b[38;5;124m\"\u001b[39m, \u001b[38;5;124m\"\u001b[39m\u001b[38;5;124mPerl\u001b[39m\u001b[38;5;124m\"\u001b[39m], [\u001b[38;5;124m\"\u001b[39m\u001b[38;5;124mParis\u001b[39m\u001b[38;5;124m\"\u001b[39m, \u001b[38;5;124m\"\u001b[39m\u001b[38;5;124mBelgium\u001b[39m\u001b[38;5;124m\"\u001b[39m, \u001b[38;5;124m\"\u001b[39m\u001b[38;5;124mLondon\u001b[39m\u001b[38;5;124m\"\u001b[39m]))\n",
      "\u001b[0;31mTypeError\u001b[0m: unhashable type: 'list'"
     ]
    }
   ],
   "source": [
    "citiesSet2 = set(([\"Python\", \"Perl\"], [\"Paris\", \"Belgium\", \"London\"]))\n",
    "# cannot have a list inside of a tuple in a set"
   ]
  },
  {
   "cell_type": "code",
   "execution_count": 8,
   "id": "9a7000db",
   "metadata": {},
   "outputs": [
    {
     "data": {
      "text/plain": [
       "{('Paris', 'Belgium', 'London'), ('Python', 'Perl')}"
      ]
     },
     "execution_count": 8,
     "metadata": {},
     "output_type": "execute_result"
    }
   ],
   "source": [
    "citiesSet3 = set(((\"Python\", \"Perl\"), (\"Paris\", \"Belgium\", \"London\")))\n",
    "citiesSet3"
   ]
  },
  {
   "cell_type": "code",
   "execution_count": 2,
   "id": "4b4f3a80",
   "metadata": {},
   "outputs": [],
   "source": [
    "citiesSet4 = set([\"Frankfurt\", \"Basel\", \"Frieburg\"])\n",
    "citiesSet4.add(\"London\")"
   ]
  },
  {
   "cell_type": "code",
   "execution_count": 3,
   "id": "d910bcfe",
   "metadata": {},
   "outputs": [
    {
     "data": {
      "text/plain": [
       "{'Basel', 'Frankfurt', 'Frieburg', 'London'}"
      ]
     },
     "execution_count": 3,
     "metadata": {},
     "output_type": "execute_result"
    }
   ],
   "source": [
    "citiesSet4"
   ]
  },
  {
   "cell_type": "code",
   "execution_count": 5,
   "id": "d4cc2df5",
   "metadata": {},
   "outputs": [
    {
     "data": {
      "text/plain": [
       "frozenset({'Basel', 'Frankfurt', 'Frieburg'})"
      ]
     },
     "execution_count": 5,
     "metadata": {},
     "output_type": "execute_result"
    }
   ],
   "source": [
    "citiesSet5 = frozenset([\"Frankfurt\", \"Basel\", \"Frieburg\"])\n",
    "citiesSet5"
   ]
  },
  {
   "cell_type": "code",
   "execution_count": 6,
   "id": "4fdd7cec",
   "metadata": {},
   "outputs": [
    {
     "ename": "AttributeError",
     "evalue": "'frozenset' object has no attribute 'add'",
     "output_type": "error",
     "traceback": [
      "\u001b[0;31m---------------------------------------------------------------------------\u001b[0m",
      "\u001b[0;31mAttributeError\u001b[0m                            Traceback (most recent call last)",
      "Cell \u001b[0;32mIn[6], line 1\u001b[0m\n\u001b[0;32m----> 1\u001b[0m citiesSet5\u001b[38;5;241m.\u001b[39madd(\u001b[38;5;124m\"\u001b[39m\u001b[38;5;124mLondon\u001b[39m\u001b[38;5;124m\"\u001b[39m)\n",
      "\u001b[0;31mAttributeError\u001b[0m: 'frozenset' object has no attribute 'add'"
     ]
    }
   ],
   "source": [
    "citiesSet5.add(\"London\")"
   ]
  },
  {
   "cell_type": "code",
   "execution_count": 7,
   "id": "818a4964",
   "metadata": {},
   "outputs": [
    {
     "data": {
      "text/plain": [
       "{'Basel', 'Frankfurt', 'Frieburg', 'London'}"
      ]
     },
     "execution_count": 7,
     "metadata": {},
     "output_type": "execute_result"
    }
   ],
   "source": [
    "citiesSet6 = {\"Frankfurt\", \"Basel\", \"Frieburg\", \"London\"}\n",
    "citiesSet6"
   ]
  },
  {
   "cell_type": "code",
   "execution_count": 8,
   "id": "3aefe891",
   "metadata": {},
   "outputs": [
    {
     "data": {
      "text/plain": [
       "{'Basel', 'Berlin', 'Frankfurt', 'Frieburg', 'London'}"
      ]
     },
     "execution_count": 8,
     "metadata": {},
     "output_type": "execute_result"
    }
   ],
   "source": [
    "citiesSet6.add(\"Berlin\")\n",
    "citiesSet6"
   ]
  },
  {
   "cell_type": "code",
   "execution_count": 9,
   "id": "493c153c",
   "metadata": {},
   "outputs": [
    {
     "data": {
      "text/plain": [
       "'/home/canakor938/projects/feb-2024-python-notebooks'"
      ]
     },
     "execution_count": 9,
     "metadata": {},
     "output_type": "execute_result"
    }
   ],
   "source": [
    "%pwd"
   ]
  },
  {
   "cell_type": "code",
   "execution_count": null,
   "id": "a54b8724",
   "metadata": {},
   "outputs": [],
   "source": []
  }
 ],
 "metadata": {
  "kernelspec": {
   "display_name": "Python 3 (ipykernel)",
   "language": "python",
   "name": "python3"
  },
  "language_info": {
   "codemirror_mode": {
    "name": "ipython",
    "version": 3
   },
   "file_extension": ".py",
   "mimetype": "text/x-python",
   "name": "python",
   "nbconvert_exporter": "python",
   "pygments_lexer": "ipython3",
   "version": "3.11.5"
  }
 },
 "nbformat": 4,
 "nbformat_minor": 5
}
