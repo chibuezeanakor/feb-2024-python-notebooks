{
 "cells": [
  {
   "cell_type": "markdown",
   "id": "71f8ee7e",
   "metadata": {},
   "source": [
    "### Tuples\n",
    "A tuple is an immutable list. i.e., a tuple cannot be changed in any way once it has been created.\n",
    "* Tuples are faster than lists\n",
    "* If you know that some data doesn't have to be changed, you should use tuples instead of lists, because this protects your data against accidental changes\n",
    "* The main advantage of tuples is that tuples can be used as keys in dictionaries, while lists can't."
   ]
  },
  {
   "cell_type": "code",
   "execution_count": 1,
   "id": "3a725f53",
   "metadata": {},
   "outputs": [
    {
     "data": {
      "text/plain": [
       "'tuples'"
      ]
     },
     "execution_count": 1,
     "metadata": {},
     "output_type": "execute_result"
    }
   ],
   "source": [
    "tpl = (\"tuples\", \"are\", \"immutable\")\n",
    "tpl[0]"
   ]
  },
  {
   "cell_type": "code",
   "execution_count": 2,
   "id": "f1800b40",
   "metadata": {},
   "outputs": [
    {
     "ename": "TypeError",
     "evalue": "'tuple' object does not support item assignment",
     "output_type": "error",
     "traceback": [
      "\u001b[0;31m---------------------------------------------------------------------------\u001b[0m",
      "\u001b[0;31mTypeError\u001b[0m                                 Traceback (most recent call last)",
      "Cell \u001b[0;32mIn[2], line 1\u001b[0m\n\u001b[0;32m----> 1\u001b[0m tpl[\u001b[38;5;241m0\u001b[39m] \u001b[38;5;241m=\u001b[39m \u001b[38;5;124m\"\u001b[39m\u001b[38;5;124mtry to assign this value to a tuple\u001b[39m\u001b[38;5;124m\"\u001b[39m\n",
      "\u001b[0;31mTypeError\u001b[0m: 'tuple' object does not support item assignment"
     ]
    }
   ],
   "source": [
    "tpl[0] = \"try to assign this value to a tuple\""
   ]
  },
  {
   "cell_type": "code",
   "execution_count": 3,
   "id": "3f7e34a6",
   "metadata": {},
   "outputs": [],
   "source": [
    "tplList = ([\"a\", \"b\"], \"c\", \"d\")"
   ]
  },
  {
   "cell_type": "code",
   "execution_count": 5,
   "id": "b105a34a",
   "metadata": {},
   "outputs": [],
   "source": [
    "tplList[0].append(\"ab\")"
   ]
  },
  {
   "cell_type": "code",
   "execution_count": 6,
   "id": "38849f17",
   "metadata": {},
   "outputs": [
    {
     "data": {
      "text/plain": [
       "(['a', 'b', 'ab'], 'c', 'd')"
      ]
     },
     "execution_count": 6,
     "metadata": {},
     "output_type": "execute_result"
    }
   ],
   "source": [
    "tplList"
   ]
  },
  {
   "cell_type": "code",
   "execution_count": 7,
   "id": "0123af88",
   "metadata": {},
   "outputs": [
    {
     "ename": "TypeError",
     "evalue": "'tuple' object does not support item assignment",
     "output_type": "error",
     "traceback": [
      "\u001b[0;31m---------------------------------------------------------------------------\u001b[0m",
      "\u001b[0;31mTypeError\u001b[0m                                 Traceback (most recent call last)",
      "Cell \u001b[0;32mIn[7], line 1\u001b[0m\n\u001b[0;32m----> 1\u001b[0m tplList[\u001b[38;5;241m0\u001b[39m] \u001b[38;5;241m=\u001b[39m \u001b[38;5;124m\"\u001b[39m\u001b[38;5;124mabab\u001b[39m\u001b[38;5;124m\"\u001b[39m\n",
      "\u001b[0;31mTypeError\u001b[0m: 'tuple' object does not support item assignment"
     ]
    }
   ],
   "source": [
    "tplList[0] = \"abab\""
   ]
  },
  {
   "cell_type": "code",
   "execution_count": 8,
   "id": "a6a6350c",
   "metadata": {},
   "outputs": [
    {
     "data": {
      "text/plain": [
       "list"
      ]
     },
     "execution_count": 8,
     "metadata": {},
     "output_type": "execute_result"
    }
   ],
   "source": [
    "type(tplList[0])"
   ]
  },
  {
   "cell_type": "code",
   "execution_count": 9,
   "id": "5080741f",
   "metadata": {},
   "outputs": [
    {
     "data": {
      "text/plain": [
       "tuple"
      ]
     },
     "execution_count": 9,
     "metadata": {},
     "output_type": "execute_result"
    }
   ],
   "source": [
    "type(tplList)"
   ]
  },
  {
   "cell_type": "code",
   "execution_count": 10,
   "id": "1d995860",
   "metadata": {},
   "outputs": [
    {
     "data": {
      "text/plain": [
       "list"
      ]
     },
     "execution_count": 10,
     "metadata": {},
     "output_type": "execute_result"
    }
   ],
   "source": [
    "regularListAndTuple = [\"a\", (1,1,2,3,5), \"b\", \"c\"]\n",
    "type(regularListAndTuple)"
   ]
  },
  {
   "cell_type": "code",
   "execution_count": 11,
   "id": "4206ae47",
   "metadata": {},
   "outputs": [
    {
     "data": {
      "text/plain": [
       "tuple"
      ]
     },
     "execution_count": 11,
     "metadata": {},
     "output_type": "execute_result"
    }
   ],
   "source": [
    "type(regularListAndTuple[1])"
   ]
  },
  {
   "cell_type": "code",
   "execution_count": 12,
   "id": "ce1f526e",
   "metadata": {},
   "outputs": [
    {
     "ename": "TypeError",
     "evalue": "'tuple' object does not support item assignment",
     "output_type": "error",
     "traceback": [
      "\u001b[0;31m---------------------------------------------------------------------------\u001b[0m",
      "\u001b[0;31mTypeError\u001b[0m                                 Traceback (most recent call last)",
      "Cell \u001b[0;32mIn[12], line 1\u001b[0m\n\u001b[0;32m----> 1\u001b[0m regularListAndTuple[\u001b[38;5;241m1\u001b[39m][\u001b[38;5;241m0\u001b[39m] \u001b[38;5;241m=\u001b[39m \u001b[38;5;124m\"\u001b[39m\u001b[38;5;124mz\u001b[39m\u001b[38;5;124m\"\u001b[39m\n",
      "\u001b[0;31mTypeError\u001b[0m: 'tuple' object does not support item assignment"
     ]
    }
   ],
   "source": [
    "regularListAndTuple[1][0] = \"z\""
   ]
  },
  {
   "cell_type": "code",
   "execution_count": 13,
   "id": "5686a4ec",
   "metadata": {},
   "outputs": [],
   "source": [
    "coordinates = [(10, 5), (20, 15), (30, 25)]"
   ]
  },
  {
   "cell_type": "code",
   "execution_count": 14,
   "id": "9d6f339e",
   "metadata": {},
   "outputs": [
    {
     "data": {
      "text/plain": [
       "(10, 5)"
      ]
     },
     "execution_count": 14,
     "metadata": {},
     "output_type": "execute_result"
    }
   ],
   "source": [
    "coordinates[0]"
   ]
  },
  {
   "cell_type": "code",
   "execution_count": 15,
   "id": "8fd68a3f",
   "metadata": {},
   "outputs": [],
   "source": [
    "coordinates[0] = \"A\""
   ]
  },
  {
   "cell_type": "code",
   "execution_count": 16,
   "id": "78e16e93",
   "metadata": {},
   "outputs": [
    {
     "data": {
      "text/plain": [
       "['A', (20, 15), (30, 25)]"
      ]
     },
     "execution_count": 16,
     "metadata": {},
     "output_type": "execute_result"
    }
   ],
   "source": [
    "coordinates"
   ]
  },
  {
   "cell_type": "markdown",
   "id": "4a8d490c",
   "metadata": {},
   "source": [
    "## Slicing"
   ]
  },
  {
   "cell_type": "code",
   "execution_count": 19,
   "id": "7d94b890",
   "metadata": {},
   "outputs": [
    {
     "data": {
      "text/plain": [
       "'Python'"
      ]
     },
     "execution_count": 19,
     "metadata": {},
     "output_type": "execute_result"
    }
   ],
   "source": [
    "message = \"Python is great\"\n",
    "firstSix = message[0:6] # start at index 0 and stop at index 6, but do not include the value at index 6\n",
    "firstSix"
   ]
  },
  {
   "cell_type": "code",
   "execution_count": 20,
   "id": "9bb95143",
   "metadata": {},
   "outputs": [
    {
     "data": {
      "text/plain": [
       "'n is great'"
      ]
     },
     "execution_count": 20,
     "metadata": {},
     "output_type": "execute_result"
    }
   ],
   "source": [
    "startAtFive = message[5:]\n",
    "startAtFive"
   ]
  },
  {
   "cell_type": "code",
   "execution_count": 22,
   "id": "84fd50f7",
   "metadata": {},
   "outputs": [
    {
     "data": {
      "text/plain": [
       "'Python is great'"
      ]
     },
     "execution_count": 22,
     "metadata": {},
     "output_type": "execute_result"
    }
   ],
   "source": [
    "cloneData = message[:]\n",
    "cloneData"
   ]
  },
  {
   "cell_type": "code",
   "execution_count": 23,
   "id": "8773e24e",
   "metadata": {},
   "outputs": [
    {
     "data": {
      "text/plain": [
       "'Python is '"
      ]
     },
     "execution_count": 23,
     "metadata": {},
     "output_type": "execute_result"
    }
   ],
   "source": [
    "withoutLastFive = cloneData[0:-5]\n",
    "withoutLastFive"
   ]
  },
  {
   "cell_type": "code",
   "execution_count": 24,
   "id": "21d9bc14",
   "metadata": {},
   "outputs": [
    {
     "data": {
      "text/plain": [
       "['Vienna', 'London', 'Paris']"
      ]
     },
     "execution_count": 24,
     "metadata": {},
     "output_type": "execute_result"
    }
   ],
   "source": [
    "lstCities = [\"Vienna\", \"London\", \"Paris\", \"Berlin\", \"Zurich\", \"Hamburg\"]\n",
    "firstThree = lstCities[0:3]\n",
    "firstThree"
   ]
  },
  {
   "cell_type": "code",
   "execution_count": 25,
   "id": "27ae5a74",
   "metadata": {},
   "outputs": [
    {
     "data": {
      "text/plain": [
       "['Vienna', 'London', 'Paris', 'Berlin']"
      ]
     },
     "execution_count": 25,
     "metadata": {},
     "output_type": "execute_result"
    }
   ],
   "source": [
    "allButLastTwo = lstCities[:-2]\n",
    "allButLastTwo"
   ]
  },
  {
   "cell_type": "markdown",
   "id": "fe1b327b",
   "metadata": {},
   "source": [
    "#### slicing has begin and end [begin:end]\n",
    "#### slicing also has 3 operators [begin:end:step]"
   ]
  },
  {
   "cell_type": "markdown",
   "id": "d7ebaec9",
   "metadata": {},
   "source": [
    "## Length\n",
    "#### Length of a sequence, i.e., a list or a tuple can be determined with the function len()"
   ]
  },
  {
   "cell_type": "code",
   "execution_count": 26,
   "id": "abddcace",
   "metadata": {},
   "outputs": [
    {
     "data": {
      "text/plain": [
       "11"
      ]
     },
     "execution_count": 26,
     "metadata": {},
     "output_type": "execute_result"
    }
   ],
   "source": [
    "txt = \"Hello World\"\n",
    "len(txt)"
   ]
  },
  {
   "cell_type": "code",
   "execution_count": 27,
   "id": "9b5d513d",
   "metadata": {},
   "outputs": [
    {
     "data": {
      "text/plain": [
       "4"
      ]
     },
     "execution_count": 27,
     "metadata": {},
     "output_type": "execute_result"
    }
   ],
   "source": [
    "lstAbc = [\"John\", 48, 3.54, \"Jane\"]\n",
    "len(lstAbc)"
   ]
  },
  {
   "cell_type": "markdown",
   "id": "a064f300",
   "metadata": {},
   "source": [
    "### Concatenation of Sequences"
   ]
  },
  {
   "cell_type": "code",
   "execution_count": 28,
   "id": "47472ce2",
   "metadata": {},
   "outputs": [
    {
     "data": {
      "text/plain": [
       "['red', 'green', 'blue', 'black', 'white']"
      ]
     },
     "execution_count": 28,
     "metadata": {},
     "output_type": "execute_result"
    }
   ],
   "source": [
    "colors1 = [\"red\", \"green\", \"blue\"]\n",
    "colors2 = [\"black\", \"white\"]\n",
    "colors = colors1 + colors2\n",
    "colors"
   ]
  },
  {
   "cell_type": "markdown",
   "id": "9874bf63",
   "metadata": {},
   "source": [
    "### Increment operation"
   ]
  },
  {
   "cell_type": "code",
   "execution_count": 29,
   "id": "5ab770ef",
   "metadata": {},
   "outputs": [
    {
     "data": {
      "text/plain": [
       "3"
      ]
     },
     "execution_count": 29,
     "metadata": {},
     "output_type": "execute_result"
    }
   ],
   "source": [
    "x = 2\n",
    "x = x + 1\n",
    "x"
   ]
  },
  {
   "cell_type": "code",
   "execution_count": 30,
   "id": "c126ce90",
   "metadata": {},
   "outputs": [
    {
     "data": {
      "text/plain": [
       "3"
      ]
     },
     "execution_count": 30,
     "metadata": {},
     "output_type": "execute_result"
    }
   ],
   "source": [
    "y = 2\n",
    "y += 1\n",
    "y"
   ]
  },
  {
   "cell_type": "markdown",
   "id": "bc2eec15",
   "metadata": {},
   "source": [
    "### Checking if an element is contained in list"
   ]
  },
  {
   "cell_type": "code",
   "execution_count": 31,
   "id": "f63a9e3a",
   "metadata": {},
   "outputs": [
    {
     "data": {
      "text/plain": [
       "True"
      ]
     },
     "execution_count": 31,
     "metadata": {},
     "output_type": "execute_result"
    }
   ],
   "source": [
    "abc = [\"a\", \"b\", \"c\", \"d\", \"e\"]\n",
    "\"a\" in abc"
   ]
  },
  {
   "cell_type": "code",
   "execution_count": 32,
   "id": "6b3aec15",
   "metadata": {},
   "outputs": [
    {
     "data": {
      "text/plain": [
       "False"
      ]
     },
     "execution_count": 32,
     "metadata": {},
     "output_type": "execute_result"
    }
   ],
   "source": [
    "\"a\" not in abc"
   ]
  },
  {
   "cell_type": "code",
   "execution_count": 33,
   "id": "1579cb0f",
   "metadata": {},
   "outputs": [
    {
     "data": {
      "text/plain": [
       "True"
      ]
     },
     "execution_count": 33,
     "metadata": {},
     "output_type": "execute_result"
    }
   ],
   "source": [
    "\"f\" not in abc"
   ]
  },
  {
   "cell_type": "markdown",
   "id": "56f09621",
   "metadata": {},
   "source": [
    "## Test Questions"
   ]
  },
  {
   "cell_type": "code",
   "execution_count": 34,
   "id": "34551a38",
   "metadata": {},
   "outputs": [],
   "source": [
    "# Python code for arithmetic operations\n",
    "a = 11\n",
    "b = 4"
   ]
  },
  {
   "cell_type": "code",
   "execution_count": 35,
   "id": "a6f79661",
   "metadata": {},
   "outputs": [
    {
     "name": "stdout",
     "output_type": "stream",
     "text": [
      "2.75\n",
      "2\n",
      "3\n"
     ]
    }
   ],
   "source": [
    "print(a / b) # Output: 2.75\n",
    "print(a // b) # Output: 2\n",
    "print(a % b) # Output: 3"
   ]
  },
  {
   "cell_type": "code",
   "execution_count": 36,
   "id": "1f3aa7a2",
   "metadata": {},
   "outputs": [],
   "source": [
    "# Match the data type to the code segment\n",
    "\n",
    "# bool, float, int, str\n",
    "age = 2 # int\n",
    "minor = False # bool\n",
    "name = \"Johnny\" # str\n",
    "weight = 123.5 # float\n",
    "zip = \"81000\" # str"
   ]
  },
  {
   "cell_type": "code",
   "execution_count": 37,
   "id": "e3fdd4b4",
   "metadata": {},
   "outputs": [
    {
     "name": "stdout",
     "output_type": "stream",
     "text": [
      "False\n",
      "False\n",
      "True\n",
      "True\n"
     ]
    }
   ],
   "source": [
    "# You are developing a Python application for your company. Write the following code\n",
    "# You need to make a selection in the drop down\n",
    "\n",
    "# \"==\" compares by values\n",
    "# \"is\" compares by id\n",
    "\n",
    "numList = [1,2,3,4,5]\n",
    "alphaList = [\"a\", \"b\", \"c\", \"d\", \"e\"]\n",
    "print(numList is alphaList) # Output: False\n",
    "print(numList == alphaList) # Output: False\n",
    "numList = alphaList\n",
    "print(numList is alphaList) # Output: True\n",
    "print(numList == alphaList) # Output: True"
   ]
  },
  {
   "cell_type": "code",
   "execution_count": 38,
   "id": "30199681",
   "metadata": {},
   "outputs": [
    {
     "data": {
      "text/plain": [
       "15"
      ]
     },
     "execution_count": 38,
     "metadata": {},
     "output_type": "execute_result"
    }
   ],
   "source": [
    "# Evaluate the following Python expression:\n",
    "\n",
    "(3*(1+2)**2 - (2**2)*3) # Output is: 3, 13, 15, 69"
   ]
  },
  {
   "cell_type": "markdown",
   "id": "6f24a8cf",
   "metadata": {},
   "source": [
    "A list named employees contains 200 employee names, the last five being company management. You need to slice the list to display all employees excluding management.\n",
    "\n",
    "Which two code segments should you use? Choose two.\n",
    "* employees[1:-4]\n",
    "* employees[:-5] -> Correct Answer\n",
    "* employees[1:-5]\n",
    "* employees[0:-5] -> Correct Answer"
   ]
  },
  {
   "cell_type": "markdown",
   "id": "abc42d92",
   "metadata": {},
   "source": [
    "### Extend function"
   ]
  },
  {
   "cell_type": "code",
   "execution_count": 39,
   "id": "23619de4",
   "metadata": {},
   "outputs": [
    {
     "data": {
      "text/plain": [
       "[43, 44, 45, [46, 47]]"
      ]
     },
     "execution_count": 39,
     "metadata": {},
     "output_type": "execute_result"
    }
   ],
   "source": [
    "lst = [43, 44, 45]\n",
    "lst2 = [46, 47]\n",
    "lst.append(lst2)\n",
    "lst"
   ]
  },
  {
   "cell_type": "code",
   "execution_count": 40,
   "id": "32252133",
   "metadata": {},
   "outputs": [
    {
     "data": {
      "text/plain": [
       "[43, 44, 45, 46, 47]"
      ]
     },
     "execution_count": 40,
     "metadata": {},
     "output_type": "execute_result"
    }
   ],
   "source": [
    "lst3 = [43, 44, 45]\n",
    "lst4 = [46, 47]\n",
    "lst3.extend(lst4)\n",
    "lst3"
   ]
  },
  {
   "cell_type": "code",
   "execution_count": 2,
   "id": "b1f13070",
   "metadata": {},
   "outputs": [
    {
     "data": {
      "text/plain": [
       "['a', 'b', 'c', 'P', 'y', 't', 'h', 'o', 'n']"
      ]
     },
     "execution_count": 2,
     "metadata": {},
     "output_type": "execute_result"
    }
   ],
   "source": [
    "lstStr = [\"a\", \"b\", \"c\"]\n",
    "prgLanguage = \"Python\"\n",
    "lstStr.extend(prgLanguage)\n",
    "lstStr"
   ]
  },
  {
   "cell_type": "code",
   "execution_count": 3,
   "id": "5577f8f6",
   "metadata": {},
   "outputs": [
    {
     "data": {
      "text/plain": [
       "list"
      ]
     },
     "execution_count": 3,
     "metadata": {},
     "output_type": "execute_result"
    }
   ],
   "source": [
    "type(lstStr)"
   ]
  },
  {
   "cell_type": "code",
   "execution_count": 4,
   "id": "04d06e78",
   "metadata": {},
   "outputs": [
    {
     "data": {
      "text/plain": [
       "tuple"
      ]
     },
     "execution_count": 4,
     "metadata": {},
     "output_type": "execute_result"
    }
   ],
   "source": [
    "tplList = (1, 1, 2, 3, 5, 8)\n",
    "type(tplList)"
   ]
  },
  {
   "cell_type": "code",
   "execution_count": null,
   "id": "1822ee53",
   "metadata": {},
   "outputs": [],
   "source": []
  }
 ],
 "metadata": {
  "kernelspec": {
   "display_name": "Python 3 (ipykernel)",
   "language": "python",
   "name": "python3"
  },
  "language_info": {
   "codemirror_mode": {
    "name": "ipython",
    "version": 3
   },
   "file_extension": ".py",
   "mimetype": "text/x-python",
   "name": "python",
   "nbconvert_exporter": "python",
   "pygments_lexer": "ipython3",
   "version": "3.11.5"
  }
 },
 "nbformat": 4,
 "nbformat_minor": 5
}
