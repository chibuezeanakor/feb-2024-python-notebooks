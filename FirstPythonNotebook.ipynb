{
 "cells": [
  {
   "cell_type": "code",
   "execution_count": 1,
   "id": "49238613",
   "metadata": {},
   "outputs": [
    {
     "name": "stdout",
     "output_type": "stream",
     "text": [
      "Hello World\n"
     ]
    }
   ],
   "source": [
    "print(\"Hello World\")"
   ]
  },
  {
   "cell_type": "code",
   "execution_count": 2,
   "id": "46d2d2e1",
   "metadata": {},
   "outputs": [
    {
     "data": {
      "text/plain": [
       "'Hello World'"
      ]
     },
     "execution_count": 2,
     "metadata": {},
     "output_type": "execute_result"
    }
   ],
   "source": [
    "\"Hello World\""
   ]
  },
  {
   "cell_type": "code",
   "execution_count": 4,
   "id": "ae603d62",
   "metadata": {},
   "outputs": [],
   "source": [
    "a = 23 # Variable a has a value of 23\n",
    "b = a # Variable b is cloned to Variable a\n",
    "c = 24 # Variable c holds a value of 24\n",
    "# z = 25"
   ]
  },
  {
   "cell_type": "code",
   "execution_count": 5,
   "id": "0f938857",
   "metadata": {},
   "outputs": [
    {
     "data": {
      "text/plain": [
       "23"
      ]
     },
     "execution_count": 5,
     "metadata": {},
     "output_type": "execute_result"
    }
   ],
   "source": [
    "a"
   ]
  },
  {
   "cell_type": "code",
   "execution_count": 6,
   "id": "5fd816d0",
   "metadata": {},
   "outputs": [
    {
     "data": {
      "text/plain": [
       "23"
      ]
     },
     "execution_count": 6,
     "metadata": {},
     "output_type": "execute_result"
    }
   ],
   "source": [
    "b"
   ]
  },
  {
   "cell_type": "code",
   "execution_count": 7,
   "id": "05584db5",
   "metadata": {},
   "outputs": [
    {
     "data": {
      "text/plain": [
       "24"
      ]
     },
     "execution_count": 7,
     "metadata": {},
     "output_type": "execute_result"
    }
   ],
   "source": [
    "c"
   ]
  },
  {
   "cell_type": "code",
   "execution_count": 8,
   "id": "bbc627ea",
   "metadata": {},
   "outputs": [
    {
     "ename": "NameError",
     "evalue": "name 'z' is not defined",
     "output_type": "error",
     "traceback": [
      "\u001b[0;31m---------------------------------------------------------------------------\u001b[0m",
      "\u001b[0;31mNameError\u001b[0m                                 Traceback (most recent call last)",
      "Cell \u001b[0;32mIn[8], line 1\u001b[0m\n\u001b[0;32m----> 1\u001b[0m z\n",
      "\u001b[0;31mNameError\u001b[0m: name 'z' is not defined"
     ]
    }
   ],
   "source": [
    "z"
   ]
  },
  {
   "cell_type": "code",
   "execution_count": 9,
   "id": "b84018c9",
   "metadata": {},
   "outputs": [],
   "source": [
    "# Create a variable name for account number\n",
    "accountNumber = 1234\n",
    "account_number = 1234"
   ]
  },
  {
   "cell_type": "code",
   "execution_count": 10,
   "id": "4f6f05ef",
   "metadata": {},
   "outputs": [
    {
     "data": {
      "text/plain": [
       "1234"
      ]
     },
     "execution_count": 10,
     "metadata": {},
     "output_type": "execute_result"
    }
   ],
   "source": [
    "accountNumber"
   ]
  },
  {
   "cell_type": "code",
   "execution_count": 11,
   "id": "f0a151c8",
   "metadata": {},
   "outputs": [],
   "source": [
    "URL = \"https://www.google.com\"\n",
    "IP_ADDRESS = \"10.0.0.1\""
   ]
  },
  {
   "cell_type": "code",
   "execution_count": 12,
   "id": "09aa27d2",
   "metadata": {},
   "outputs": [],
   "source": [
    "strText = \"Hello World\" # The data type is String\n",
    "intAccountNumber = 1234 # The data type is Integer"
   ]
  },
  {
   "cell_type": "code",
   "execution_count": 13,
   "id": "a18b154d",
   "metadata": {},
   "outputs": [
    {
     "data": {
      "text/plain": [
       "str"
      ]
     },
     "execution_count": 13,
     "metadata": {},
     "output_type": "execute_result"
    }
   ],
   "source": [
    "type(strText)"
   ]
  },
  {
   "cell_type": "code",
   "execution_count": 14,
   "id": "9f2af5b5",
   "metadata": {},
   "outputs": [
    {
     "data": {
      "text/plain": [
       "int"
      ]
     },
     "execution_count": 14,
     "metadata": {},
     "output_type": "execute_result"
    }
   ],
   "source": [
    "type(intAccountNumber)"
   ]
  },
  {
   "cell_type": "code",
   "execution_count": 15,
   "id": "e7511a2a",
   "metadata": {},
   "outputs": [],
   "source": [
    "intAmount = 21.4"
   ]
  },
  {
   "cell_type": "code",
   "execution_count": 16,
   "id": "7734511c",
   "metadata": {},
   "outputs": [
    {
     "data": {
      "text/plain": [
       "float"
      ]
     },
     "execution_count": 16,
     "metadata": {},
     "output_type": "execute_result"
    }
   ],
   "source": [
    "type(intAmount)"
   ]
  },
  {
   "cell_type": "code",
   "execution_count": 17,
   "id": "1bb595fd",
   "metadata": {},
   "outputs": [],
   "source": [
    "strCity = \"\"\"\n",
    "This is a multi-lined city text\n",
    "Lorem Ipsum, Lorem Ipsum\n",
    "Lorem Ipsum, Lorem Ipsum\n",
    "Lorem Ipsum, Lorem Ipsum\n",
    "Lorem Ipsum, Lorem Ipsum\n",
    "Lorem Ipsum, Lorem Ipsum\n",
    "Lorem Ipsum, Lorem Ipsum\n",
    "Lorem Ipsum, Lorem Ipsum\n",
    "Lorem Ipsum, Lorem Ipsum\n",
    "\"\"\""
   ]
  },
  {
   "cell_type": "code",
   "execution_count": 18,
   "id": "af9b2c30",
   "metadata": {},
   "outputs": [
    {
     "data": {
      "text/plain": [
       "'\\nThis is a multi-lined city text\\nLorem Ipsum, Lorem Ipsum\\nLorem Ipsum, Lorem Ipsum\\nLorem Ipsum, Lorem Ipsum\\nLorem Ipsum, Lorem Ipsum\\nLorem Ipsum, Lorem Ipsum\\nLorem Ipsum, Lorem Ipsum\\nLorem Ipsum, Lorem Ipsum\\nLorem Ipsum, Lorem Ipsum\\n'"
      ]
     },
     "execution_count": 18,
     "metadata": {},
     "output_type": "execute_result"
    }
   ],
   "source": [
    "strCity"
   ]
  },
  {
   "cell_type": "code",
   "execution_count": 19,
   "id": "cdb7ab92",
   "metadata": {},
   "outputs": [
    {
     "name": "stdout",
     "output_type": "stream",
     "text": [
      "\n",
      "This is a multi-lined city text\n",
      "Lorem Ipsum, Lorem Ipsum\n",
      "Lorem Ipsum, Lorem Ipsum\n",
      "Lorem Ipsum, Lorem Ipsum\n",
      "Lorem Ipsum, Lorem Ipsum\n",
      "Lorem Ipsum, Lorem Ipsum\n",
      "Lorem Ipsum, Lorem Ipsum\n",
      "Lorem Ipsum, Lorem Ipsum\n",
      "Lorem Ipsum, Lorem Ipsum\n",
      "\n"
     ]
    }
   ],
   "source": [
    "print(strCity)"
   ]
  },
  {
   "cell_type": "code",
   "execution_count": 23,
   "id": "0c3d089e",
   "metadata": {},
   "outputs": [
    {
     "data": {
      "text/plain": [
       "str"
      ]
     },
     "execution_count": 23,
     "metadata": {},
     "output_type": "execute_result"
    }
   ],
   "source": [
    "# Code Segment 1\n",
    "x1 = \"20\"\n",
    "y1 = 3\n",
    "a = x1 * y1\n",
    "type (a)"
   ]
  },
  {
   "cell_type": "code",
   "execution_count": 24,
   "id": "1604a4f9",
   "metadata": {},
   "outputs": [
    {
     "data": {
      "text/plain": [
       "float"
      ]
     },
     "execution_count": 24,
     "metadata": {},
     "output_type": "execute_result"
    }
   ],
   "source": [
    "# Code Segment 2\n",
    "x2 = 6\n",
    "y2 = 4\n",
    "b = x2 / y2\n",
    "type(b)"
   ]
  },
  {
   "cell_type": "code",
   "execution_count": 25,
   "id": "76c7b17c",
   "metadata": {},
   "outputs": [
    {
     "data": {
      "text/plain": [
       "float"
      ]
     },
     "execution_count": 25,
     "metadata": {},
     "output_type": "execute_result"
    }
   ],
   "source": [
    "# Code Segment 3\n",
    "x3 = 2.5\n",
    "y3 = 1\n",
    "c = x3 / y3\n",
    "type(c)"
   ]
  },
  {
   "cell_type": "code",
   "execution_count": 26,
   "id": "e9cf8bfc",
   "metadata": {},
   "outputs": [],
   "source": [
    "# Answers:\n",
    "# After executing code segment 1, the data type of variable a is str (Yes or No) - Yes\n",
    "# After executing code segment 2, the data type of variable b is float (Yes or No) - Yes\n",
    "# After executing code segment 3, the data type of variable c is int (Yes or No) - No"
   ]
  },
  {
   "cell_type": "code",
   "execution_count": 27,
   "id": "ef8c9913",
   "metadata": {},
   "outputs": [],
   "source": [
    "# Importance of String data sets\n",
    "strText = \"Hello!\"\n",
    "# Strings are immutable\n",
    "# Once you create them, you cannot change them"
   ]
  },
  {
   "cell_type": "code",
   "execution_count": 28,
   "id": "648de3f9",
   "metadata": {},
   "outputs": [
    {
     "ename": "TypeError",
     "evalue": "'str' object does not support item assignment",
     "output_type": "error",
     "traceback": [
      "\u001b[0;31m---------------------------------------------------------------------------\u001b[0m",
      "\u001b[0;31mTypeError\u001b[0m                                 Traceback (most recent call last)",
      "Cell \u001b[0;32mIn[28], line 1\u001b[0m\n\u001b[0;32m----> 1\u001b[0m strText[\u001b[38;5;241m0\u001b[39m] \u001b[38;5;241m=\u001b[39m \u001b[38;5;124m\"\u001b[39m\u001b[38;5;124mT\u001b[39m\u001b[38;5;124m\"\u001b[39m\n",
      "\u001b[0;31mTypeError\u001b[0m: 'str' object does not support item assignment"
     ]
    }
   ],
   "source": [
    "strText[0] = \"T\""
   ]
  },
  {
   "cell_type": "code",
   "execution_count": 29,
   "id": "00e68f6c",
   "metadata": {},
   "outputs": [
    {
     "data": {
      "text/plain": [
       "65"
      ]
     },
     "execution_count": 29,
     "metadata": {},
     "output_type": "execute_result"
    }
   ],
   "source": [
    "# Print the Ordinal numbers for characters\n",
    "ord(\"A\")"
   ]
  },
  {
   "cell_type": "code",
   "execution_count": 30,
   "id": "0fd581fb",
   "metadata": {},
   "outputs": [
    {
     "data": {
      "text/plain": [
       "97"
      ]
     },
     "execution_count": 30,
     "metadata": {},
     "output_type": "execute_result"
    }
   ],
   "source": [
    "ord(\"a\")"
   ]
  },
  {
   "cell_type": "code",
   "execution_count": 31,
   "id": "2d9ad241",
   "metadata": {},
   "outputs": [
    {
     "data": {
      "text/plain": [
       "(72, 101, 108, 108, 111)"
      ]
     },
     "execution_count": 31,
     "metadata": {},
     "output_type": "execute_result"
    }
   ],
   "source": [
    "ord(\"H\"), ord(\"e\"),ord(\"l\"),ord(\"l\"),ord(\"o\")"
   ]
  },
  {
   "cell_type": "code",
   "execution_count": 32,
   "id": "7fe49106",
   "metadata": {},
   "outputs": [
    {
     "data": {
      "text/plain": [
       "'/home/canakor938'"
      ]
     },
     "execution_count": 32,
     "metadata": {},
     "output_type": "execute_result"
    }
   ],
   "source": [
    "%pwd"
   ]
  },
  {
   "cell_type": "markdown",
   "id": "571b7ef6",
   "metadata": {},
   "source": [
    "## Integer Division\n",
    "* \"true division\" performed by \"/\"\n",
    "* \"floor division\" performed by \"//\""
   ]
  },
  {
   "cell_type": "code",
   "execution_count": 33,
   "id": "b19b6e39",
   "metadata": {},
   "outputs": [
    {
     "data": {
      "text/plain": [
       "3.3333333333333335"
      ]
     },
     "execution_count": 33,
     "metadata": {},
     "output_type": "execute_result"
    }
   ],
   "source": [
    "10 / 3"
   ]
  },
  {
   "cell_type": "code",
   "execution_count": 34,
   "id": "a413dca0",
   "metadata": {},
   "outputs": [
    {
     "data": {
      "text/plain": [
       "3.3333333333333335"
      ]
     },
     "execution_count": 34,
     "metadata": {},
     "output_type": "execute_result"
    }
   ],
   "source": [
    "10.0 / 3.0"
   ]
  },
  {
   "cell_type": "markdown",
   "id": "4accb857",
   "metadata": {},
   "source": [
    "The operator \"//\" performs floor division, i.e., the dividend is divided by the divisor - like in true division - but the floor of the result will be returned"
   ]
  },
  {
   "cell_type": "code",
   "execution_count": 35,
   "id": "2e0810e1",
   "metadata": {},
   "outputs": [
    {
     "data": {
      "text/plain": [
       "3"
      ]
     },
     "execution_count": 35,
     "metadata": {},
     "output_type": "execute_result"
    }
   ],
   "source": [
    "9 // 3"
   ]
  },
  {
   "cell_type": "code",
   "execution_count": 36,
   "id": "34d285e3",
   "metadata": {},
   "outputs": [
    {
     "data": {
      "text/plain": [
       "3"
      ]
     },
     "execution_count": 36,
     "metadata": {},
     "output_type": "execute_result"
    }
   ],
   "source": [
    "10 // 3"
   ]
  },
  {
   "cell_type": "code",
   "execution_count": 37,
   "id": "150efb4d",
   "metadata": {},
   "outputs": [
    {
     "data": {
      "text/plain": [
       "3"
      ]
     },
     "execution_count": 37,
     "metadata": {},
     "output_type": "execute_result"
    }
   ],
   "source": [
    "11 // 3"
   ]
  },
  {
   "cell_type": "code",
   "execution_count": 38,
   "id": "df3efaf6",
   "metadata": {},
   "outputs": [
    {
     "data": {
      "text/plain": [
       "4"
      ]
     },
     "execution_count": 38,
     "metadata": {},
     "output_type": "execute_result"
    }
   ],
   "source": [
    "12 // 3"
   ]
  },
  {
   "cell_type": "code",
   "execution_count": 39,
   "id": "b1d9808c",
   "metadata": {},
   "outputs": [
    {
     "data": {
      "text/plain": [
       "3.0"
      ]
     },
     "execution_count": 39,
     "metadata": {},
     "output_type": "execute_result"
    }
   ],
   "source": [
    "10.0 // 3"
   ]
  },
  {
   "cell_type": "markdown",
   "id": "e243676a",
   "metadata": {},
   "source": [
    "## Floor Division for negative numerator"
   ]
  },
  {
   "cell_type": "code",
   "execution_count": 40,
   "id": "755495f5",
   "metadata": {},
   "outputs": [
    {
     "data": {
      "text/plain": [
       "-3"
      ]
     },
     "execution_count": 40,
     "metadata": {},
     "output_type": "execute_result"
    }
   ],
   "source": [
    "-7 // 3"
   ]
  },
  {
   "cell_type": "code",
   "execution_count": 42,
   "id": "341b8b77",
   "metadata": {},
   "outputs": [
    {
     "name": "stdout",
     "output_type": "stream",
     "text": [
      "Numerator: 10 Denominator: 3 Result: 3\n"
     ]
    }
   ],
   "source": [
    "numerator = 10\n",
    "denominator = 3\n",
    "result = numerator // denominator\n",
    "print(\"Numerator:\", numerator, \"Denominator:\", denominator, \"Result:\", result)"
   ]
  },
  {
   "cell_type": "code",
   "execution_count": 43,
   "id": "07595d9d",
   "metadata": {},
   "outputs": [
    {
     "name": "stdout",
     "output_type": "stream",
     "text": [
      "Numerator: -10 Denominator: 3 Result: -4\n"
     ]
    }
   ],
   "source": [
    "numerator = -10\n",
    "denominator = 3\n",
    "result = numerator // denominator\n",
    "print(\"Numerator:\", numerator, \"Denominator:\", denominator, \"Result:\", result)"
   ]
  },
  {
   "cell_type": "code",
   "execution_count": 44,
   "id": "99164612",
   "metadata": {},
   "outputs": [
    {
     "name": "stdout",
     "output_type": "stream",
     "text": [
      "Numerator: 7.5 Denominator: 2.0 Result: 3.0\n"
     ]
    }
   ],
   "source": [
    "numerator = 7.5\n",
    "denominator = 2.0\n",
    "result = numerator // denominator\n",
    "print(\"Numerator:\", numerator, \"Denominator:\", denominator, \"Result:\", result)"
   ]
  },
  {
   "cell_type": "markdown",
   "id": "b47f80b4",
   "metadata": {},
   "source": []
  }
 ],
 "metadata": {
  "kernelspec": {
   "display_name": "Python 3 (ipykernel)",
   "language": "python",
   "name": "python3"
  },
  "language_info": {
   "codemirror_mode": {
    "name": "ipython",
    "version": 3
   },
   "file_extension": ".py",
   "mimetype": "text/x-python",
   "name": "python",
   "nbconvert_exporter": "python",
   "pygments_lexer": "ipython3",
   "version": "3.11.5"
  }
 },
 "nbformat": 4,
 "nbformat_minor": 5
}
