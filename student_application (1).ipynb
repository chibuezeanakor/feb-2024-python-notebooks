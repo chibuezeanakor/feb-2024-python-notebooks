{
 "cells": [
  {
   "cell_type": "markdown",
   "id": "6339f2d5",
   "metadata": {},
   "source": [
    "- Create a student database\n",
    "- print report cards for students\n",
    "- add a student\n",
    "- add a mark for a student"
   ]
  },
  {
   "cell_type": "code",
   "execution_count": 3,
   "id": "22f0c225",
   "metadata": {},
   "outputs": [],
   "source": [
    "students = [[\"Ben\", {\"Math\": 77, \"English\": 78, \"Science\": 90}],\n",
    "            [\"Mark\", {\"Math\": 56, \"Art\": 95, \"History\": 65, \"Geography\": 55}],\n",
    "            [\"Paul\", {\"English\": 66, \"History\": 88}]]"
   ]
  },
  {
   "cell_type": "code",
   "execution_count": 4,
   "id": "5108f879",
   "metadata": {},
   "outputs": [],
   "source": [
    "grades = ((0, \"Fail\"), (50, \"D\"), (60, \"C\"), (70, \"B\"), (80, \"A\"), (101, \"Cheat\"))"
   ]
  },
  {
   "cell_type": "code",
   "execution_count": 5,
   "id": "b708d114",
   "metadata": {},
   "outputs": [],
   "source": [
    "def print_report_cards(report_student=None):\n",
    "    global students\n",
    "    for student in students:\n",
    "        if (student[0]==report_student) or (report_student==None):\n",
    "            print(\"Report card for student \", student[0])\n",
    "            for subject, mark in student[1].items():\n",
    "                for grade in grades:\n",
    "                    if mark < grade[0]:\n",
    "                        print(subject, \" : \", prev_grade)\n",
    "                        break\n",
    "                    prev_grade = grade[1]"
   ]
  },
  {
   "cell_type": "code",
   "execution_count": 6,
   "id": "6c2045fa",
   "metadata": {},
   "outputs": [
    {
     "name": "stdout",
     "output_type": "stream",
     "text": [
      "Report card for student  Ben\n",
      "Math  :  B\n",
      "English  :  B\n",
      "Science  :  A\n",
      "Report card for student  Mark\n",
      "Math  :  D\n",
      "Art  :  A\n",
      "History  :  C\n",
      "Geography  :  D\n",
      "Report card for student  Paul\n",
      "English  :  C\n",
      "History  :  A\n"
     ]
    }
   ],
   "source": [
    "print_report_cards()"
   ]
  },
  {
   "cell_type": "code",
   "execution_count": 7,
   "id": "948e853d",
   "metadata": {},
   "outputs": [
    {
     "name": "stdout",
     "output_type": "stream",
     "text": [
      "Report card for student  Ben\n",
      "Math  :  B\n",
      "English  :  B\n",
      "Science  :  A\n"
     ]
    }
   ],
   "source": [
    "print_report_cards(\"Ben\")"
   ]
  },
  {
   "cell_type": "code",
   "execution_count": 8,
   "id": "c7f040f0",
   "metadata": {},
   "outputs": [],
   "source": [
    "def add_student(student_name):\n",
    "    global students\n",
    "    for student in students:\n",
    "        if student[0] == student_name:\n",
    "            return \"Student already in database\"\n",
    "    students.append([student_name, {}])\n",
    "    return \"Student added successfully\""
   ]
  },
  {
   "cell_type": "code",
   "execution_count": 12,
   "id": "4acd968a",
   "metadata": {},
   "outputs": [],
   "source": [
    "def add_mark(student_name, subject, mark):\n",
    "    global students\n",
    "    for student in students:\n",
    "        if student[0] == student_name:\n",
    "            if subject in student[1].keys():\n",
    "                print(student_name, \" already has a mark for \", subject)\n",
    "                user_input = input(\"Overwrite Y/N ? \")\n",
    "                if user_input == 'Y' or user_input == 'y':\n",
    "                    student[1][subject] = mark\n",
    "                    return \"Students mark updated\"\n",
    "                else:\n",
    "                    return \"Students mark not updated\"\n",
    "            else:\n",
    "                student[1][subject] = mark\n",
    "                return \"Students mark added\"\n",
    "    return \"Student not found\""
   ]
  },
  {
   "cell_type": "code",
   "execution_count": 13,
   "id": "76bce5e6",
   "metadata": {},
   "outputs": [
    {
     "name": "stdout",
     "output_type": "stream",
     "text": [
      "Welcome to the student database\n",
      "What can I help you with?\n",
      "Enter 1 to view all report cards\n",
      "Enter 2 to view the report card for a student\n",
      "Enter 3 to add a student\n",
      "Enter 4 to add a mark for student\n",
      "Enter 5 to exit\n",
      "Choice: 5\n",
      "Thanks for using the student database\n"
     ]
    }
   ],
   "source": [
    "while True:\n",
    "    print(\"Welcome to the student database\")\n",
    "    print(\"What can I help you with?\")\n",
    "    print(\"Enter 1 to view all report cards\")\n",
    "    print(\"Enter 2 to view the report card for a student\")\n",
    "    print(\"Enter 3 to add a student\")\n",
    "    print(\"Enter 4 to add a mark for student\")\n",
    "    print(\"Enter 5 to exit\")\n",
    "    \n",
    "    try:\n",
    "        user_choice = int(input(\"Choice: \"))\n",
    "    except ValueError:\n",
    "        print(\"That's not a number i recognize\")\n",
    "        user_choice = 0\n",
    "    \n",
    "    if user_choice == 1:\n",
    "        print_report_cards()\n",
    "    elif user_choice == 2:\n",
    "        enter_student = input(\"Which student? \")\n",
    "        print_report_cards(enter_student)\n",
    "    elif user_choice == 3:\n",
    "        enter_student = input(\"Student name? \")\n",
    "        print(add_student(enter_student))\n",
    "    elif user_choice == 4:\n",
    "        enter_student = input(\"Student name? \")\n",
    "        enter_subject = input(\"Subject? \")\n",
    "        num_error = True\n",
    "        while num_error:\n",
    "            num_error = False\n",
    "            try:\n",
    "                enter_mark = int(input(\"Mark? \"))\n",
    "            except ValueError:\n",
    "                print(\"I don't recognize that as a number\")\n",
    "                num_error = True\n",
    "        print(add_mark(enter_student, enter_subject, enter_mark))\n",
    "    elif user_choice == 5:\n",
    "        break\n",
    "    else:\n",
    "        print(\"Unknown choice\")\n",
    "    input(\"Press enter to continue\")\n",
    "print(\"Thanks for using the student database\")"
   ]
  },
  {
   "cell_type": "code",
   "execution_count": null,
   "id": "2f710175",
   "metadata": {},
   "outputs": [],
   "source": []
  }
 ],
 "metadata": {
  "kernelspec": {
   "display_name": "Python 3 (ipykernel)",
   "language": "python",
   "name": "python3"
  },
  "language_info": {
   "codemirror_mode": {
    "name": "ipython",
    "version": 3
   },
   "file_extension": ".py",
   "mimetype": "text/x-python",
   "name": "python",
   "nbconvert_exporter": "python",
   "pygments_lexer": "ipython3",
   "version": "3.11.5"
  }
 },
 "nbformat": 4,
 "nbformat_minor": 5
}
