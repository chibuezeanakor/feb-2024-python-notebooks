{
 "cells": [
  {
   "cell_type": "code",
   "execution_count": 1,
   "id": "8e98ff6b",
   "metadata": {},
   "outputs": [],
   "source": [
    "strText = \"Python is a programming language\""
   ]
  },
  {
   "cell_type": "code",
   "execution_count": 2,
   "id": "f9fbd46e",
   "metadata": {},
   "outputs": [
    {
     "data": {
      "text/plain": [
       "'P'"
      ]
     },
     "execution_count": 2,
     "metadata": {},
     "output_type": "execute_result"
    }
   ],
   "source": [
    "strText[0]"
   ]
  },
  {
   "cell_type": "code",
   "execution_count": 3,
   "id": "3cc165a4",
   "metadata": {},
   "outputs": [],
   "source": [
    "strText2 = \"Hello World\""
   ]
  },
  {
   "cell_type": "code",
   "execution_count": 4,
   "id": "f6be3e28",
   "metadata": {},
   "outputs": [
    {
     "data": {
      "text/plain": [
       "'H'"
      ]
     },
     "execution_count": 4,
     "metadata": {},
     "output_type": "execute_result"
    }
   ],
   "source": [
    "strText2[0]"
   ]
  },
  {
   "cell_type": "code",
   "execution_count": 5,
   "id": "019ce2e5",
   "metadata": {},
   "outputs": [
    {
     "data": {
      "text/plain": [
       "'d'"
      ]
     },
     "execution_count": 5,
     "metadata": {},
     "output_type": "execute_result"
    }
   ],
   "source": [
    "strText2[10]"
   ]
  },
  {
   "cell_type": "code",
   "execution_count": 6,
   "id": "9b1ee7ff",
   "metadata": {},
   "outputs": [
    {
     "data": {
      "text/plain": [
       "' '"
      ]
     },
     "execution_count": 6,
     "metadata": {},
     "output_type": "execute_result"
    }
   ],
   "source": [
    "strText2[5]"
   ]
  },
  {
   "cell_type": "code",
   "execution_count": 7,
   "id": "a2a395d2",
   "metadata": {},
   "outputs": [
    {
     "ename": "IndexError",
     "evalue": "string index out of range",
     "output_type": "error",
     "traceback": [
      "\u001b[0;31m---------------------------------------------------------------------------\u001b[0m",
      "\u001b[0;31mIndexError\u001b[0m                                Traceback (most recent call last)",
      "Cell \u001b[0;32mIn[7], line 1\u001b[0m\n\u001b[0;32m----> 1\u001b[0m strText2[\u001b[38;5;241m11\u001b[39m]\n",
      "\u001b[0;31mIndexError\u001b[0m: string index out of range"
     ]
    }
   ],
   "source": [
    "strText2[11]"
   ]
  },
  {
   "cell_type": "code",
   "execution_count": 8,
   "id": "9000662a",
   "metadata": {},
   "outputs": [
    {
     "data": {
      "text/plain": [
       "'d'"
      ]
     },
     "execution_count": 8,
     "metadata": {},
     "output_type": "execute_result"
    }
   ],
   "source": [
    "strText2[-1]"
   ]
  },
  {
   "cell_type": "code",
   "execution_count": 9,
   "id": "b31d69f6",
   "metadata": {},
   "outputs": [
    {
     "data": {
      "text/plain": [
       "'H'"
      ]
     },
     "execution_count": 9,
     "metadata": {},
     "output_type": "execute_result"
    }
   ],
   "source": [
    "strText2[-11]"
   ]
  },
  {
   "cell_type": "markdown",
   "id": "906495a7",
   "metadata": {},
   "source": [
    "### is operator\n",
    "is operator is used to compare two objects using id checks"
   ]
  },
  {
   "cell_type": "code",
   "execution_count": 10,
   "id": "5051e0f2",
   "metadata": {},
   "outputs": [
    {
     "data": {
      "text/plain": [
       "True"
      ]
     },
     "execution_count": 10,
     "metadata": {},
     "output_type": "execute_result"
    }
   ],
   "source": [
    "a = \"Linux\"\n",
    "b = \"Linux\"\n",
    "a is b"
   ]
  },
  {
   "cell_type": "code",
   "execution_count": 11,
   "id": "06e639f5",
   "metadata": {},
   "outputs": [
    {
     "data": {
      "text/plain": [
       "(133212745565744, 133212745565744)"
      ]
     },
     "execution_count": 11,
     "metadata": {},
     "output_type": "execute_result"
    }
   ],
   "source": [
    "id(a), id(b)"
   ]
  },
  {
   "cell_type": "markdown",
   "id": "defb0aae",
   "metadata": {},
   "source": [
    "Strings with special characters will be stored in different memory addresses, which will result in false comparisons using the is operator"
   ]
  },
  {
   "cell_type": "code",
   "execution_count": 12,
   "id": "c08e94d6",
   "metadata": {},
   "outputs": [
    {
     "data": {
      "text/plain": [
       "False"
      ]
     },
     "execution_count": 12,
     "metadata": {},
     "output_type": "execute_result"
    }
   ],
   "source": [
    "a = \"speciäl character\"\n",
    "b = \"speciäl character\"\n",
    "a is b"
   ]
  },
  {
   "cell_type": "code",
   "execution_count": 13,
   "id": "8ba411ef",
   "metadata": {},
   "outputs": [
    {
     "data": {
      "text/plain": [
       "(133212267964304, 133212267965168)"
      ]
     },
     "execution_count": 13,
     "metadata": {},
     "output_type": "execute_result"
    }
   ],
   "source": [
    "id(a), id(b)"
   ]
  },
  {
   "cell_type": "markdown",
   "id": "3d4e2f49",
   "metadata": {},
   "source": [
    "# Exam Question"
   ]
  },
  {
   "cell_type": "code",
   "execution_count": 14,
   "id": "92d51225",
   "metadata": {},
   "outputs": [
    {
     "data": {
      "text/plain": [
       "bool"
      ]
     },
     "execution_count": 14,
     "metadata": {},
     "output_type": "execute_result"
    }
   ],
   "source": [
    "type(+1E10)\n",
    "type(5.0)\n",
    "type(\"True\")\n",
    "type(False)"
   ]
  },
  {
   "cell_type": "markdown",
   "id": "05379391",
   "metadata": {},
   "source": [
    "# Order of Operations\n",
    "* Parentheses\n",
    "* Exponents\n",
    "* Unary positive, negative, not\n",
    "* Multiplication and Division\n",
    "* Addition and Subtraction\n",
    "* And"
   ]
  },
  {
   "cell_type": "code",
   "execution_count": 15,
   "id": "9b8ba36c",
   "metadata": {},
   "outputs": [
    {
     "data": {
      "text/plain": [
       "15.0"
      ]
     },
     "execution_count": 15,
     "metadata": {},
     "output_type": "execute_result"
    }
   ],
   "source": [
    "result = (2+3) * (5 - 2) ** 2/3\n",
    "# 1. Parentheses: (2+3) and (5-2) are calculated first, resulting in 5 and 3\n",
    "# 2. Exponents: 3 ** 2 is calculated next, resulting in 9\n",
    "# 3. Multiplication and Division: 5 * 9 equals 45, 45 / 3 equals 15\n",
    "result"
   ]
  },
  {
   "cell_type": "code",
   "execution_count": 17,
   "id": "28d82a52",
   "metadata": {},
   "outputs": [
    {
     "data": {
      "text/plain": [
       "41.0"
      ]
     },
     "execution_count": 17,
     "metadata": {},
     "output_type": "execute_result"
    }
   ],
   "source": [
    "result = 4 + 5 * 2 ** 3 - 6 / 2\n",
    "# 1. Exponents: 2 ** 3 equals 8\n",
    "# 2. Multiplication and Division: 5 * 8 = 40, 6 / 2 = 3\n",
    "# 3. Addition and Subtraction: 4 + 40 = 44, 44 - 3 = 41\n",
    "result"
   ]
  },
  {
   "cell_type": "code",
   "execution_count": 18,
   "id": "154150d7",
   "metadata": {},
   "outputs": [
    {
     "data": {
      "text/plain": [
       "3.0"
      ]
     },
     "execution_count": 18,
     "metadata": {},
     "output_type": "execute_result"
    }
   ],
   "source": [
    "6 / 2"
   ]
  },
  {
   "cell_type": "code",
   "execution_count": null,
   "id": "b1871467",
   "metadata": {},
   "outputs": [],
   "source": []
  }
 ],
 "metadata": {
  "kernelspec": {
   "display_name": "Python 3 (ipykernel)",
   "language": "python",
   "name": "python3"
  },
  "language_info": {
   "codemirror_mode": {
    "name": "ipython",
    "version": 3
   },
   "file_extension": ".py",
   "mimetype": "text/x-python",
   "name": "python",
   "nbconvert_exporter": "python",
   "pygments_lexer": "ipython3",
   "version": "3.11.5"
  }
 },
 "nbformat": 4,
 "nbformat_minor": 5
}
