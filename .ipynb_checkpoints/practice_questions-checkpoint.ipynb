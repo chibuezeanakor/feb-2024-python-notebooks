{
 "cells": [
  {
   "cell_type": "markdown",
   "id": "a372c88e",
   "metadata": {},
   "source": [
    "You are developing a Python application for an online company. You need a program to iterate through a list of products and escape when a target product ID is found. How should you complete the code? Note: You need to select appropriate code segments in the answer area."
   ]
  },
  {
   "cell_type": "code",
   "execution_count": 1,
   "id": "2800b045",
   "metadata": {},
   "outputs": [
    {
     "name": "stdout",
     "output_type": "stream",
     "text": [
      "0\n"
     ]
    }
   ],
   "source": [
    "productIdList = [0,1,2,3,4,5,6,7,8,9]\n",
    "index = 0\n",
    "# Question 1: What do you need to select here? - While, for, if, or break\n",
    "print(productIdList[index])\n",
    "# if productIdList[index] == 6:\n",
    "# Question 2: What do you select here for \"else\" condition - While, for, if, break"
   ]
  },
  {
   "cell_type": "code",
   "execution_count": 2,
   "id": "74e7ffe7",
   "metadata": {},
   "outputs": [
    {
     "name": "stdout",
     "output_type": "stream",
     "text": [
      "0\n",
      "1\n",
      "2\n",
      "3\n",
      "4\n",
      "5\n",
      "6\n",
      "7\n",
      "8\n",
      "9\n"
     ]
    }
   ],
   "source": [
    "for i in range(len(productIdList)):\n",
    "    print(i)"
   ]
  },
  {
   "cell_type": "code",
   "execution_count": 3,
   "id": "521742ae",
   "metadata": {},
   "outputs": [
    {
     "name": "stdout",
     "output_type": "stream",
     "text": [
      "Exiting at value 6\n"
     ]
    }
   ],
   "source": [
    "while (index < len(productIdList)):\n",
    "    if productIdList[index] == 6:\n",
    "        print(\"Exiting at value\", productIdList[index])\n",
    "        break\n",
    "    index += 1"
   ]
  },
  {
   "cell_type": "markdown",
   "id": "f7a0b158",
   "metadata": {},
   "source": [
    "#### Question 2:\n",
    "You are developing a Python application for an online game:\n",
    "You need to create a function that meets the following criteria\n",
    "- The function name is update_score\n",
    "- The function receives the current score and a value\n",
    "- The function adds the value to the current score\n",
    "- The function returns the new score\n",
    "<br />\n",
    "How should you complete the code? To answer, you need to select appropriate code segments"
   ]
  },
  {
   "cell_type": "code",
   "execution_count": 4,
   "id": "67aee309",
   "metadata": {},
   "outputs": [],
   "source": [
    "# Answer area:\n",
    "# Question 1: Make one selection from - update_score, def update_score, return update_score\n",
    "# Next to Question 1 is Question 2: Make one selection - (current value):, ():, (current, value): ():\n",
    "# Question 3: Select one - pass current, return current, return, pass"
   ]
  },
  {
   "cell_type": "code",
   "execution_count": 5,
   "id": "2bd43728",
   "metadata": {},
   "outputs": [],
   "source": [
    "def update_score(current, value):\n",
    "    return current"
   ]
  },
  {
   "cell_type": "markdown",
   "id": "16ebef60",
   "metadata": {},
   "source": [
    "#### Question 3:\n",
    "You have the following code:"
   ]
  },
  {
   "cell_type": "code",
   "execution_count": 6,
   "id": "37334388",
   "metadata": {},
   "outputs": [],
   "source": [
    "def main(a, b, c, d):\n",
    "    value = a + b * c - d\n",
    "    return value"
   ]
  },
  {
   "cell_type": "code",
   "execution_count": 7,
   "id": "4e054685",
   "metadata": {},
   "outputs": [],
   "source": [
    "# Now make a selection from the drop down:\n",
    "# Question 1: Which part of the expression will be evaluated first? a + b, b * c, c - d --> b * c\n",
    "# Question 2: Which operation will be evaluated second? addition, subtraction --> addition\n",
    "# Question 3: Which expression is equivalent to the expression in the function? (a+b)*(c-d), (a+(b*c))-d, a+((b*c)-d) --> (a+(b*c))-d"
   ]
  },
  {
   "cell_type": "markdown",
   "id": "9584ae07",
   "metadata": {},
   "source": [
    "#### Question 4:\n",
    "Drag and drop question"
   ]
  },
  {
   "cell_type": "code",
   "execution_count": 8,
   "id": "d774907f",
   "metadata": {},
   "outputs": [],
   "source": [
    "import os\n",
    "def get_first_line(filename, mode):\n",
    "    pass"
   ]
  },
  {
   "cell_type": "markdown",
   "id": "8a468c21",
   "metadata": {},
   "source": [
    "In which order should you arrange the code segments to complete the function?\n",
    "- if os.path.isfile(filename): -- 2\n",
    "- return file.readline() -- 3\n",
    "- with open(filename, 'r') as file: -- 1\n",
    "- return None -- 5\n",
    "- else: -- 4"
   ]
  },
  {
   "cell_type": "markdown",
   "id": "eeeacf8f",
   "metadata": {},
   "source": [
    "#### Question 5:\n",
    "You create a function to calculate the power of a number by using Python. You need to ensure that the function is documented with comments. You create the following code:"
   ]
  },
  {
   "cell_type": "code",
   "execution_count": null,
   "id": "07c75e4d",
   "metadata": {},
   "outputs": [],
   "source": [
    "# The calc_power function calculates exponents\n",
    "# x is the base\n",
    "# y is the exponent\n",
    "# The value of x raised to the y power is returned\n",
    "def calc_power(x, y):\n",
    "    comment = \"# Return the value\"\n",
    "    return x ** y raise x to the y power"
   ]
  },
  {
   "cell_type": "code",
   "execution_count": 9,
   "id": "c711e9cd",
   "metadata": {},
   "outputs": [],
   "source": [
    "# Answer area is\n",
    "# Line 01 to 04 will be ignored for syntax checking: Yes / No -> Yes\n",
    "# The pound sign (#) is optional for lines 02 and 03: Yes / No -> No\n",
    "# The string in line 06 will be interpreted as a comment: Yes / No -> No"
   ]
  },
  {
   "cell_type": "markdown",
   "id": "e3a29b86",
   "metadata": {},
   "source": [
    "#### Question 6:\n",
    "For each of the following statements, select Yes if the statement is True, otherwise, select No"
   ]
  },
  {
   "cell_type": "code",
   "execution_count": 10,
   "id": "20fa8648",
   "metadata": {},
   "outputs": [],
   "source": [
    "# Answer area:\n",
    "# A try statement can have one or more except clauses: Yes / No -> Yes\n",
    "# A try statement can have a finally clause without an except clause: Yes / No -> No\n",
    "# A try statement can have a finally clause and an except clause: Yes / No -> Yes\n",
    "# A try statement can have one or more finally clauses: Yes / No -> No"
   ]
  },
  {
   "cell_type": "markdown",
   "id": "2dcaaf07",
   "metadata": {},
   "source": [
    "#### Question 7:\n",
    "You are creating a function that manipulates a number. The function has a following requirements\n",
    "- A float is passed into the function\n",
    "- The function must take the absolute value of the float\n",
    "- Any decimal points after the integer must be removed\n",
    "<br />\n",
    "Which 2 math functions should you use? (Choose two)"
   ]
  },
  {
   "cell_type": "code",
   "execution_count": 11,
   "id": "eadf6297",
   "metadata": {},
   "outputs": [],
   "source": [
    "# Answer area:\n",
    "# A. math.fmod(x)\n",
    "# B. math.frexp(x)\n",
    "# C. math.floor(x) \n",
    "# D. math.ceil(x)\n",
    "# E. math.fabs(x)"
   ]
  },
  {
   "cell_type": "markdown",
   "id": "3ece8056",
   "metadata": {},
   "source": [
    "#### Question 8:\n",
    "You must write a script that asks for the user for a value. The value must be used as a whole number in a calculation, even if the user enters a decimal value.\n",
    "You need to write the code to meet the requirements. Which code segment should you use?"
   ]
  },
  {
   "cell_type": "code",
   "execution_count": 12,
   "id": "8e721534",
   "metadata": {},
   "outputs": [],
   "source": [
    "# Answer area:\n",
    "# A. totalItems = input(\"How many items would you like? \")\n",
    "# B. totalItems = float(input(\"How many items would you like? \"))\n",
    "# C. totalItems = str(input(\"How many items would you like? \"))\n",
    "# D. totalItems = int(input(\"How many items would you like? \")) -> Correct answer"
   ]
  },
  {
   "cell_type": "markdown",
   "id": "135f253b",
   "metadata": {},
   "source": [
    "#### Question 9:\n",
    "Your first task is to read a file of inventory transactions. The file contains sales from the previous day, including the item id, price, and quantity. The sample data is shown here\n",
    "- 10, 200, 5\n",
    "- 20, 100, 1\n",
    "<br />\n",
    "The code must meet the following requirements:\n",
    "- Each line of the file must be read and printed\n",
    "- If a blank line is encountered, it must be ignored\n",
    "- When all lines have been read, the file must be locked\n",
    "<br />\n",
    "You create the following code:"
   ]
  },
  {
   "cell_type": "code",
   "execution_count": null,
   "id": "0cff8a47",
   "metadata": {},
   "outputs": [],
   "source": [
    "inventory = open(\"inventory.txt\", 'r')\n",
    "eof = False\n",
    "while eof == False:\n",
    "    line = inventory.readline()\n",
    "    \n",
    "    \n",
    "        print(line)\n",
    "    else:\n",
    "        print(\"End of file\")\n",
    "        eof = True\n",
    "        inventory.close()\n",
    "'''\n",
    "Question: What code should you write in line 05 and 06\n",
    "\n",
    "Answer area:\n",
    "A.\n",
    "    05. if line != '\\n':\n",
    "    06.    if line != \"\":\n",
    "\n",
    "B. \n",
    "    05. if line != '\\n':\n",
    "    06.    if line != None:\n",
    "\n",
    "C. \n",
    "    05. if line != '':\n",
    "    06.    if line != \"\":\n",
    "\n",
    "D. < correct answer >\n",
    "    05. if line != '':\n",
    "    06.    if line != \"\\n\":\n",
    "'''"
   ]
  },
  {
   "cell_type": "markdown",
   "id": "3773547c",
   "metadata": {},
   "source": [
    "#### Question 10:\n",
    "Drag and drop\n",
    "###### Operations\n",
    "- Parentheses\n",
    "- Exponents\n",
    "- And\n",
    "- Multiplication / Division\n",
    "- Addition / Subtraction\n",
    "- Unary positive, negative, not"
   ]
  },
  {
   "cell_type": "markdown",
   "id": "b8fb911c",
   "metadata": {},
   "source": [
    "###### Answers\n",
    "1. Parentheses\n",
    "2. Exponents\n",
    "3. Unary positive, negative, not\n",
    "4. Multiplication and Division\n",
    "5. Addition and Subtraction\n",
    "6. And"
   ]
  },
  {
   "cell_type": "markdown",
   "id": "db146b75",
   "metadata": {},
   "source": [
    "#### Question 11:\n",
    "You must create a function that calculates the average velocity of their vehicles on a 1320 foot (1/4 mile) track. The output must be as precise as possible. How should you complete the code?\n",
    "- Hint: You need to select options for the code from the dropdown"
   ]
  },
  {
   "cell_type": "code",
   "execution_count": null,
   "id": "a3cfa286",
   "metadata": {},
   "outputs": [],
   "source": [
    "'''\n",
    "Answer area:\n",
    "Speed calculator\n",
    "'''\n",
    "distance = (int, str, float)(input(\"Enter the distance traveled in feet\")) # float\n",
    "distance_miles = distance / 5280\n",
    "time = (int, float, str)(input(\"Enter the time elapsed in seconds: \")) # float\n",
    "time_hours = time / 3600 # convert to hours\n",
    "velocity = distance_miles / time_hours\n",
    "print(\"The average velocity is\", velocity, \"mph\")"
   ]
  },
  {
   "cell_type": "markdown",
   "id": "d2984c37",
   "metadata": {},
   "source": [
    "#### Question 12:\n",
    "You need to read and write data to a text file. If the file does not exist, it must be created. If the file has contents, the content must be removed. Which code should you use?"
   ]
  },
  {
   "cell_type": "code",
   "execution_count": null,
   "id": "50099275",
   "metadata": {},
   "outputs": [],
   "source": [
    "'''\n",
    "Answers:\n",
    "A. open(\"local_data\", 'r')\n",
    "B. open(\"local_data\", 'r+') <- correct answer\n",
    "C. open(\"local_data\", 'w+')\n",
    "D. open(\"local_data\", 'w')\n",
    "'''"
   ]
  }
 ],
 "metadata": {
  "kernelspec": {
   "display_name": "Python 3 (ipykernel)",
   "language": "python",
   "name": "python3"
  },
  "language_info": {
   "codemirror_mode": {
    "name": "ipython",
    "version": 3
   },
   "file_extension": ".py",
   "mimetype": "text/x-python",
   "name": "python",
   "nbconvert_exporter": "python",
   "pygments_lexer": "ipython3",
   "version": "3.11.5"
  }
 },
 "nbformat": 4,
 "nbformat_minor": 5
}
