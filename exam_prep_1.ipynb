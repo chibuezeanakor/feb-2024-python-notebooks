{
 "cells": [
  {
   "cell_type": "markdown",
   "id": "0f8659e3",
   "metadata": {},
   "source": [
    "#### Question 1"
   ]
  },
  {
   "cell_type": "code",
   "execution_count": 1,
   "id": "fc1f4c60",
   "metadata": {},
   "outputs": [],
   "source": [
    "# Let's say you want to introduce the concept of data types in Python\n",
    "# You create the following three code segments"
   ]
  },
  {
   "cell_type": "code",
   "execution_count": 5,
   "id": "204e8be5",
   "metadata": {},
   "outputs": [],
   "source": [
    "# Code segment 1\n",
    "x1 = \"20\"\n",
    "y1 = 3\n",
    "a = x1 * y1"
   ]
  },
  {
   "cell_type": "code",
   "execution_count": 6,
   "id": "d05a43e5",
   "metadata": {},
   "outputs": [],
   "source": [
    "# Code segment 2\n",
    "x2 = 6\n",
    "y2 = 4\n",
    "b = x2 / y2"
   ]
  },
  {
   "cell_type": "code",
   "execution_count": 7,
   "id": "a766abed",
   "metadata": {},
   "outputs": [],
   "source": [
    "# Code segment 3\n",
    "x3 = 2.5\n",
    "y3 = 1\n",
    "c = x3 / y3"
   ]
  },
  {
   "cell_type": "code",
   "execution_count": 8,
   "id": "7bdec641",
   "metadata": {},
   "outputs": [],
   "source": [
    "# You need to evaluate the code segments\n",
    "# For each of the following statements, select Yes if the statement is true\n",
    "# Otherwise, select No"
   ]
  },
  {
   "cell_type": "code",
   "execution_count": 9,
   "id": "cfaf4121",
   "metadata": {},
   "outputs": [],
   "source": [
    "# After executing code segment 1, the data type of variable a is str - Yes / No - Yes\n",
    "# After executing code segment 2, the data type of variable b is float - Yes / No - Yes\n",
    "# After executing code segment 3, the data type of variable c is int - Yes / No - No"
   ]
  },
  {
   "cell_type": "markdown",
   "id": "542b0d5c",
   "metadata": {},
   "source": [
    "#### Question 2"
   ]
  },
  {
   "cell_type": "code",
   "execution_count": 10,
   "id": "f935cca8",
   "metadata": {},
   "outputs": [],
   "source": [
    "# Student Grade assignment\n",
    "# 90 - 100: A\n",
    "# 80 - 89: B\n",
    "# 70 - 79: C\n",
    "# 65 - 69: D\n",
    "# 0 - 64: F"
   ]
  },
  {
   "cell_type": "code",
   "execution_count": null,
   "id": "85e10948",
   "metadata": {},
   "outputs": [],
   "source": [
    "# Letter grade converter\n",
    "grade = int(input(\"Enter a numeric grade: \"))\n",
    "# Select from the following options to get grade 'A'\n",
    "# if grade <= 90:\n",
    "# if grade >= 90:\n",
    "# elif grade > 90:\n",
    "# elif grade >= 90:\n",
    "print(letter_grade = 'A')\n",
    "\n",
    "# Select from the following options to get grade 'B'\n",
    "# if grade <= 80:\n",
    "# if grade >= 80:\n",
    "# elif grade > 80:\n",
    "# elif grade >= 80:\n",
    "print(letter_grade = 'B')\n",
    "\n",
    "# Select from the following options to get grade 'C'\n",
    "# if grade <= 70:\n",
    "# if grade >= 70:\n",
    "# elif grade > 70:\n",
    "# elif grade >= 70:\n",
    "print(letter_grade = 'C')\n",
    "\n",
    "# Select from the following options to get grade 'D'\n",
    "# if grade <= 65:\n",
    "# if grade >= 65:\n",
    "# elif grade > 65:\n",
    "# elif grade >= 65:\n",
    "print(letter_grade = 'D')\n",
    "\n",
    "else:\n",
    "    print(letter_grade = 'F')"
   ]
  },
  {
   "cell_type": "markdown",
   "id": "ee3dca03",
   "metadata": {},
   "source": [
    "#### Question 3\n",
    "You need to accept input from the user and print that information to the user screen. What code should you write in line 2?"
   ]
  },
  {
   "cell_type": "code",
   "execution_count": 11,
   "id": "6f735df0",
   "metadata": {},
   "outputs": [
    {
     "data": {
      "text/plain": [
       "'\\nprint(\"What is your name?\")\\n# Answer here\\nprint(name)\\n\\n# Options\\nname = input\\ninput(\"name\")\\ninput(name)\\nname = input() <-- correct answer\\n'"
      ]
     },
     "execution_count": 11,
     "metadata": {},
     "output_type": "execute_result"
    }
   ],
   "source": [
    "'''\n",
    "print(\"What is your name?\")\n",
    "# Answer here\n",
    "print(name)\n",
    "\n",
    "# Options\n",
    "name = input\n",
    "input(\"name\")\n",
    "input(name)\n",
    "name = input() <-- correct answer\n",
    "'''"
   ]
  },
  {
   "cell_type": "markdown",
   "id": "54573d11",
   "metadata": {},
   "source": [
    "#### Question 4"
   ]
  },
  {
   "cell_type": "code",
   "execution_count": null,
   "id": "0fd0fa4e",
   "metadata": {},
   "outputs": [],
   "source": [
    "\n",
    "    name = input(\"What is your name? \")\n",
    "    return name\n",
    "\n",
    "    calories = miles * calories_per_mile\n",
    "    return calories\n",
    "\n",
    "distance = int(input(\"How many miles did you bike this week? \"))\n",
    "burn_rate = 50\n",
    "biker = get_name()\n",
    "calories_burned = calc_calories(distance, burn_rate)\n",
    "print(biker, \", you burned about\", calories_burned, \"calories\")\n",
    "\n",
    "# Question:\n",
    "# You need to define the two required functions\n",
    "# Which code segments should you use for line 1 and line 4 (Choose two)\n",
    "\n",
    "# A: 01 def get_name(): <-- correct\n",
    "# B: 01 def get_name(biker):\n",
    "# C: 01 def get_name(name):\n",
    "# D: 04 def calc_calories():\n",
    "# E: 04 def calc_calories(miles, burn_rate):\n",
    "# F: 04 def calc_calories(miles, calories_per_mile): <-- correct"
   ]
  },
  {
   "cell_type": "markdown",
   "id": "27ccc880",
   "metadata": {},
   "source": [
    "#### Question 5\n",
    "You are writing an application that uses the sqrt function. The program must reference the function using the name squareroot\n",
    "You need to import the function. Which code segment should you use?"
   ]
  },
  {
   "cell_type": "code",
   "execution_count": null,
   "id": "85318040",
   "metadata": {},
   "outputs": [],
   "source": [
    "# A: import math.sqrt as squareRoot\n",
    "# B: import sqrt from math as squareRoot\n",
    "# C: from math import sqrt as squareRoot\n",
    "# D: from math.sqrt as squareRoot"
   ]
  }
 ],
 "metadata": {
  "kernelspec": {
   "display_name": "Python 3 (ipykernel)",
   "language": "python",
   "name": "python3"
  },
  "language_info": {
   "codemirror_mode": {
    "name": "ipython",
    "version": 3
   },
   "file_extension": ".py",
   "mimetype": "text/x-python",
   "name": "python",
   "nbconvert_exporter": "python",
   "pygments_lexer": "ipython3",
   "version": "3.11.5"
  }
 },
 "nbformat": 4,
 "nbformat_minor": 5
}
